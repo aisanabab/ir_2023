{
 "cells": [
  {
   "cell_type": "code",
   "execution_count": 1,
   "id": "da7c76bf",
   "metadata": {},
   "outputs": [],
   "source": [
    "from catboost import CatBoostRanker, Pool, MetricVisualizer\n",
    "from copy import deepcopy\n",
    "import numpy as np\n",
    "import os\n",
    "import pandas as pd\n",
    "from tqdm import tqdm\n",
    "from collections import Counter"
   ]
  },
  {
   "cell_type": "markdown",
   "id": "7d01b224",
   "metadata": {},
   "source": [
    "### Data preparation"
   ]
  },
  {
   "cell_type": "code",
   "execution_count": 2,
   "id": "a0981c28",
   "metadata": {},
   "outputs": [],
   "source": [
    "train_df = pd.read_table('imat2009_train_new.txt', header=None, sep ='#')"
   ]
  },
  {
   "cell_type": "code",
   "execution_count": 3,
   "id": "f351401a",
   "metadata": {},
   "outputs": [
    {
     "name": "stderr",
     "output_type": "stream",
     "text": [
      "100%|███████████████████████████████████████████████████████████████████████████████████████████████████████████████████████████████████████████| 77714/77714 [06:41<00:00, 193.46it/s]\n"
     ]
    }
   ],
   "source": [
    "rel = [x.split(' ') for x in train_df[0]] #relevance labels and features\n",
    "relevance = [float(x[0]) for x in rel]#relevance labels\n",
    "rele = [x[1:-1] for x in rel]#just features with values without last space\n",
    "split = [[x.split(':') for x in line] for line in rele] #splitting features vs values\n",
    "features= np.arange(1, 246, 1)\n",
    "transposed = [np.array(line).T for line in split] #transposed for convenience\n",
    "values = [[0 if (str(el) not in line[0]) else float(line[1][np.where(line[0] == str(el))[0][0]]) for el in features] for line in tqdm(transposed)]"
   ]
  },
  {
   "cell_type": "code",
   "execution_count": 4,
   "id": "3b601af5",
   "metadata": {},
   "outputs": [],
   "source": [
    "X_train = np.array(values)\n",
    "y_train = np.array(relevance)\n",
    "queries_train = train_df[1].values"
   ]
  },
  {
   "cell_type": "code",
   "execution_count": 5,
   "id": "1592cc58",
   "metadata": {},
   "outputs": [],
   "source": [
    "test_df = pd.read_table('imat2009_test_new.txt', header=None, sep ='#')"
   ]
  },
  {
   "cell_type": "code",
   "execution_count": 6,
   "id": "bfd6caca",
   "metadata": {},
   "outputs": [
    {
     "name": "stderr",
     "output_type": "stream",
     "text": [
      "100%|███████████████████████████████████████████████████████████████████████████████████████████████████████████████████████████████████████████| 19576/19576 [01:39<00:00, 196.24it/s]\n"
     ]
    }
   ],
   "source": [
    "rel = [x.split(' ') for x in test_df[0]] #relevance labels and features\n",
    "relevance = [float(x[0]) for x in rel]#relevance labels\n",
    "rele = [x[1:-1] for x in rel]#just features with values without last space\n",
    "split = [[x.split(':') for x in line] for line in rele] #splitting features vs values\n",
    "features= np.arange(1, 246, 1)\n",
    "transposed = [np.array(line).T for line in split] #transposed for convenience\n",
    "values = [[0 if (str(el) not in line[0]) else float(line[1][np.where(line[0] == str(el))[0][0]]) for el in features] for line in tqdm(transposed)]"
   ]
  },
  {
   "cell_type": "code",
   "execution_count": 7,
   "id": "b7f29c9d",
   "metadata": {},
   "outputs": [],
   "source": [
    "X_test = np.array(values)\n",
    "y_test = np.array(relevance)\n",
    "queries_test = test_df[1].values"
   ]
  },
  {
   "cell_type": "markdown",
   "id": "5c8d48a5",
   "metadata": {},
   "source": [
    "Scaling into [0,1] range"
   ]
  },
  {
   "cell_type": "code",
   "execution_count": 11,
   "id": "14e29da1",
   "metadata": {},
   "outputs": [],
   "source": [
    "max_relevance = np.max(y_train)\n",
    "y_train /= max_relevance\n",
    "y_test /= max_relevance"
   ]
  },
  {
   "cell_type": "markdown",
   "id": "a4fb706f",
   "metadata": {},
   "source": [
    "### Training"
   ]
  },
  {
   "cell_type": "code",
   "execution_count": 13,
   "id": "e09ad9fd",
   "metadata": {},
   "outputs": [],
   "source": [
    "train = Pool(\n",
    "    data=X_train,\n",
    "    label=y_train,\n",
    "    group_id=queries_train\n",
    ")\n",
    "\n",
    "test = Pool(\n",
    "    data=X_test,\n",
    "    label=y_test,\n",
    "    group_id=queries_test\n",
    ")"
   ]
  },
  {
   "cell_type": "code",
   "execution_count": 14,
   "id": "f8462a49",
   "metadata": {},
   "outputs": [],
   "source": [
    "default_parameters = {\n",
    "    'iterations': 2000,\n",
    "    'custom_metric': ['NDCG'],\n",
    "    'verbose': False,\n",
    "    'random_seed': 0,\n",
    "}\n",
    "\n",
    "parameters = {}"
   ]
  },
  {
   "cell_type": "code",
   "execution_count": 80,
   "id": "8742a1b8",
   "metadata": {},
   "outputs": [],
   "source": [
    "def fit_model(loss_function, additional_params=None, train_pool=train, test_pool=test):\n",
    "    parameters = deepcopy(default_parameters)\n",
    "    parameters['loss_function'] = loss_function\n",
    "    parameters['train_dir'] = loss_function\n",
    "    \n",
    "    if additional_params is not None:\n",
    "        parameters.update(additional_params)\n",
    "        \n",
    "    model = CatBoostRanker(**parameters)\n",
    "    model.fit(train_pool, eval_set=test_pool, plot=True)\n",
    "    \n",
    "    return model"
   ]
  },
  {
   "cell_type": "code",
   "execution_count": 81,
   "id": "bd3ae0c1",
   "metadata": {},
   "outputs": [
    {
     "data": {
      "application/vnd.jupyter.widget-view+json": {
       "model_id": "c1a8c74ce338467aae9804261cd1bb29",
       "version_major": 2,
       "version_minor": 0
      },
      "text/plain": [
       "MetricVisualizer(layout=Layout(align_self='stretch', height='500px'))"
      ]
     },
     "metadata": {},
     "output_type": "display_data"
    },
    {
     "data": {
      "text/plain": [
       "<catboost.core.CatBoostRanker at 0x1ab8a001720>"
      ]
     },
     "execution_count": 81,
     "metadata": {},
     "output_type": "execute_result"
    }
   ],
   "source": [
    "fit_model('YetiRank')"
   ]
  },
  {
   "cell_type": "code",
   "execution_count": 88,
   "id": "7eb0504b",
   "metadata": {},
   "outputs": [
    {
     "data": {
      "application/vnd.jupyter.widget-view+json": {
       "model_id": "e4a476dc75584217b358f9e2249be5f5",
       "version_major": 2,
       "version_minor": 0
      },
      "text/plain": [
       "MetricVisualizer(layout=Layout(align_self='stretch', height='500px'))"
      ]
     },
     "metadata": {},
     "output_type": "display_data"
    },
    {
     "data": {
      "text/plain": [
       "<catboost.core.CatBoostRanker at 0x1ab8ec080a0>"
      ]
     },
     "execution_count": 88,
     "metadata": {},
     "output_type": "execute_result"
    }
   ],
   "source": [
    "fit_model('YetiRank', {'train_dir': 'YetiRank-lr-0.1', 'learning_rate': 0.1})"
   ]
  },
  {
   "cell_type": "code",
   "execution_count": 84,
   "id": "caa0f915",
   "metadata": {},
   "outputs": [
    {
     "data": {
      "application/vnd.jupyter.widget-view+json": {
       "model_id": "529dccf5ae0d4725a74e8dc01253b5e0",
       "version_major": 2,
       "version_minor": 0
      },
      "text/plain": [
       "MetricVisualizer(layout=Layout(align_self='stretch', height='500px'))"
      ]
     },
     "metadata": {},
     "output_type": "display_data"
    },
    {
     "data": {
      "text/plain": [
       "<catboost.core.CatBoostRanker at 0x1ab8d2b3820>"
      ]
     },
     "execution_count": 84,
     "metadata": {},
     "output_type": "execute_result"
    }
   ],
   "source": [
    "fit_model('YetiRank', {'train_dir': 'YetiRank-lr-0.3', 'learning_rate': 0.3})"
   ]
  },
  {
   "cell_type": "code",
   "execution_count": 85,
   "id": "bc08b5ba",
   "metadata": {},
   "outputs": [
    {
     "data": {
      "application/vnd.jupyter.widget-view+json": {
       "model_id": "bd7952dd84134f19a630c436ea5aa291",
       "version_major": 2,
       "version_minor": 0
      },
      "text/plain": [
       "MetricVisualizer(layout=Layout(align_self='stretch', height='500px'))"
      ]
     },
     "metadata": {},
     "output_type": "display_data"
    },
    {
     "data": {
      "text/plain": [
       "<catboost.core.CatBoostRanker at 0x1ab89d4aef0>"
      ]
     },
     "execution_count": 85,
     "metadata": {},
     "output_type": "execute_result"
    }
   ],
   "source": [
    "fit_model('YetiRank', {'train_dir': 'YetiRank-mp-50-lr-0.1', 'metric_period': 50, 'iterations': 700,'learning_rate': 0.1})"
   ]
  },
  {
   "cell_type": "code",
   "execution_count": 110,
   "id": "c0bdadd3",
   "metadata": {
    "scrolled": false
   },
   "outputs": [
    {
     "data": {
      "application/vnd.jupyter.widget-view+json": {
       "model_id": "2d006171cae542c09cc8320c4d8d2b37",
       "version_major": 2,
       "version_minor": 0
      },
      "text/plain": [
       "MetricVisualizer(layout=Layout(align_self='stretch', height='500px'))"
      ]
     },
     "metadata": {},
     "output_type": "display_data"
    }
   ],
   "source": [
    "widget = MetricVisualizer(['YetiRank-lr-0.3', 'YetiRank-lr-0.1', 'YetiRank-mp-50-lr-0.1'])\n",
    "widget.start()"
   ]
  },
  {
   "cell_type": "code",
   "execution_count": 92,
   "id": "b45279b6",
   "metadata": {},
   "outputs": [
    {
     "data": {
      "application/vnd.jupyter.widget-view+json": {
       "model_id": "",
       "version_major": 2,
       "version_minor": 0
      },
      "text/plain": [
       "MetricVisualizer(layout=Layout(align_self='stretch', height='500px'))"
      ]
     },
     "metadata": {},
     "output_type": "display_data"
    },
    {
     "data": {
      "text/plain": [
       "<catboost.core.CatBoostRanker at 0x1ab8d7af6d0>"
      ]
     },
     "execution_count": 92,
     "metadata": {},
     "output_type": "execute_result"
    }
   ],
   "source": [
    "fit_model('PairLogit')"
   ]
  },
  {
   "cell_type": "code",
   "execution_count": 94,
   "id": "fa0a0b4d",
   "metadata": {},
   "outputs": [
    {
     "data": {
      "application/vnd.jupyter.widget-view+json": {
       "model_id": "2f30652a8ca84b2b9a570b3a40cb881d",
       "version_major": 2,
       "version_minor": 0
      },
      "text/plain": [
       "MetricVisualizer(layout=Layout(align_self='stretch', height='500px'))"
      ]
     },
     "metadata": {},
     "output_type": "display_data"
    },
    {
     "data": {
      "text/plain": [
       "<catboost.core.CatBoostRanker at 0x1ab8d7aec80>"
      ]
     },
     "execution_count": 94,
     "metadata": {},
     "output_type": "execute_result"
    }
   ],
   "source": [
    "fit_model('PairLogit', {'train_dir': 'PairLogit-lr-0.1', 'learning_rate': 0.1})"
   ]
  },
  {
   "cell_type": "code",
   "execution_count": 95,
   "id": "fce1ad49",
   "metadata": {},
   "outputs": [
    {
     "data": {
      "application/vnd.jupyter.widget-view+json": {
       "model_id": "",
       "version_major": 2,
       "version_minor": 0
      },
      "text/plain": [
       "MetricVisualizer(layout=Layout(align_self='stretch', height='500px'))"
      ]
     },
     "metadata": {},
     "output_type": "display_data"
    },
    {
     "data": {
      "text/plain": [
       "<catboost.core.CatBoostRanker at 0x1ab89d4b490>"
      ]
     },
     "execution_count": 95,
     "metadata": {},
     "output_type": "execute_result"
    }
   ],
   "source": [
    "fit_model('PairLogit', {'train_dir': 'PairLogit-lr-0.1-mp-50', 'learning_rate': 0.3, 'metric_period': 50})"
   ]
  },
  {
   "cell_type": "code",
   "execution_count": 105,
   "id": "cc75020c",
   "metadata": {},
   "outputs": [
    {
     "data": {
      "application/vnd.jupyter.widget-view+json": {
       "model_id": "d3b4b8af0b5a48159dbb01088231eaa0",
       "version_major": 2,
       "version_minor": 0
      },
      "text/plain": [
       "MetricVisualizer(layout=Layout(align_self='stretch', height='500px'))"
      ]
     },
     "metadata": {},
     "output_type": "display_data"
    },
    {
     "data": {
      "text/plain": [
       "<catboost.core.CatBoostRanker at 0x1ab930aae60>"
      ]
     },
     "execution_count": 105,
     "metadata": {},
     "output_type": "execute_result"
    }
   ],
   "source": [
    "fit_model('PairLogit', {'train_dir': 'PairLogit-lr-0.1-mp-200', 'learning_rate': 0.3, 'metric_period': 200})"
   ]
  },
  {
   "cell_type": "code",
   "execution_count": 96,
   "id": "56216943",
   "metadata": {},
   "outputs": [
    {
     "data": {
      "application/vnd.jupyter.widget-view+json": {
       "model_id": "ef56b986fa40458b825f50f2806d7ac2",
       "version_major": 2,
       "version_minor": 0
      },
      "text/plain": [
       "MetricVisualizer(layout=Layout(align_self='stretch', height='500px'))"
      ]
     },
     "metadata": {},
     "output_type": "display_data"
    }
   ],
   "source": [
    "widget = MetricVisualizer(['PairLogit', 'YetiRank'])\n",
    "widget.start()"
   ]
  },
  {
   "cell_type": "markdown",
   "id": "3f267bb7",
   "metadata": {},
   "source": [
    "# Optional task"
   ]
  },
  {
   "cell_type": "markdown",
   "id": "10c6fdd9",
   "metadata": {},
   "source": [
    "### Data preparation"
   ]
  },
  {
   "cell_type": "code",
   "execution_count": 21,
   "id": "b8d9b4f8",
   "metadata": {},
   "outputs": [],
   "source": [
    "doc = pd.read_csv('wikIR/documents.csv')\n",
    "doc_splt = [x.split(' ') for x in doc['text_right'].tolist()]  \n",
    "docs = pd.DataFrame(np.array([doc['id_right'].tolist(),[len(x) for x in doc_splt]]).T, columns=['id_right', 'length']) "
   ]
  },
  {
   "cell_type": "code",
   "execution_count": 22,
   "id": "6cb493f9",
   "metadata": {},
   "outputs": [],
   "source": [
    "df_train = pd.read_csv('wikIR/training/BM25.res', header=None, names=['q'])\n",
    "df_train[['q', 'n_u', 'd', 'r', 's', 'rn']] = df_train.q.str.split(expand=True)"
   ]
  },
  {
   "cell_type": "code",
   "execution_count": 37,
   "id": "fc890ca5",
   "metadata": {},
   "outputs": [],
   "source": [
    "queries_train = pd.read_csv('wikIR/training/queries.csv')\n",
    "queries_train_splt = [x.split(' ') for x in queries_train['text_left'].tolist()]  \n",
    "queries_trains = pd.DataFrame(np.array([queries_train['id_left'].tolist(),\n",
    "                                        [len(x) for x in queries_train_splt]]).T, columns=['id_left', 'length'])"
   ]
  },
  {
   "cell_type": "markdown",
   "id": "226e67ae",
   "metadata": {},
   "source": [
    "#### Extracting features"
   ]
  },
  {
   "cell_type": "markdown",
   "id": "6a75198c",
   "metadata": {},
   "source": [
    "Extracting relevance judgements"
   ]
  },
  {
   "cell_type": "code",
   "execution_count": 39,
   "id": "8edea695",
   "metadata": {},
   "outputs": [],
   "source": [
    "qrels_train  = pd.read_table('wikIR/training/qrels', header = None, names = ['id_left', 'n_u', 'id_right', 'label'])\n",
    "df_train['rl'] = pd.Series([0 if len(np.where((qrels_train['id_left'] == int(df_train['q'][i]))&\n",
    "                                              (qrels_train['id_right']==int(df_train['d'][i])))[0])== 0 \n",
    "                            else qrels_train['label'][np.where((qrels_train['id_left'] == int(df_train['q'][i]))&\n",
    "                                                               (qrels_train['id_right']==int(df_train['d'][i])))[0][0]] \n",
    "                            for i in range(len(df_train))])"
   ]
  },
  {
   "cell_type": "markdown",
   "id": "24824519",
   "metadata": {},
   "source": [
    "Extracting features. I used such scores:\n",
    "query and document length in words, # of matched q/d terms, phrase match (0/1), BM25 score"
   ]
  },
  {
   "cell_type": "code",
   "execution_count": 40,
   "id": "e21b3997",
   "metadata": {},
   "outputs": [],
   "source": [
    "df_train['ql'] = [queries_trains['length'][np.where(int(df_train['q'][i]) == queries_trains['id_left'])[0][0]] \n",
    "                  for i in range(len(df_train))]\n",
    "df_train['dl'] = [docs['length'][np.where(int(df_train['d'][i]) == docs['id_right'])[0][0]] \n",
    "                  for i in range(len(df_train))]\n",
    "df_train['phm'] = [1 if (queries_train['text_left'][np.where(queries_train['id_left']==int(df_train['q'][i]))[0][0]] \n",
    "                         in doc['text_right'][np.where(doc['id_right'] == int(df_train['d'][i]))[0][0]]) \n",
    "                   else 0 for i in range(len(df_train))]\n",
    "df_train['nmq'] = [sum([1 if (queries_train_splt[np.where(queries_train['id_left'] == int(df_train['q'][i]))[0][0]][j] \n",
    "                              in doc['text_right'][np.where(doc['id_right'] == int(df_train['d'][i]))[0][0]]) \n",
    "                        else 0 \n",
    "                        for j in range(len(queries_train_splt\n",
    "                                           [np.where(queries_train['id_left'] == int(df_train['q'][i]))[0][0]]))]) \n",
    "                   for i in range(len(df_train))]"
   ]
  },
  {
   "cell_type": "code",
   "execution_count": 112,
   "id": "9a2bc6db",
   "metadata": {},
   "outputs": [
    {
     "data": {
      "text/html": [
       "<div>\n",
       "<style scoped>\n",
       "    .dataframe tbody tr th:only-of-type {\n",
       "        vertical-align: middle;\n",
       "    }\n",
       "\n",
       "    .dataframe tbody tr th {\n",
       "        vertical-align: top;\n",
       "    }\n",
       "\n",
       "    .dataframe thead th {\n",
       "        text-align: right;\n",
       "    }\n",
       "</style>\n",
       "<table border=\"1\" class=\"dataframe\">\n",
       "  <thead>\n",
       "    <tr style=\"text-align: right;\">\n",
       "      <th></th>\n",
       "      <th>id_left</th>\n",
       "      <th>text_left</th>\n",
       "    </tr>\n",
       "  </thead>\n",
       "  <tbody>\n",
       "    <tr>\n",
       "      <th>0</th>\n",
       "      <td>123839</td>\n",
       "      <td>yanni</td>\n",
       "    </tr>\n",
       "    <tr>\n",
       "      <th>1</th>\n",
       "      <td>188629</td>\n",
       "      <td>k pop</td>\n",
       "    </tr>\n",
       "    <tr>\n",
       "      <th>2</th>\n",
       "      <td>13898</td>\n",
       "      <td>venice film festival</td>\n",
       "    </tr>\n",
       "    <tr>\n",
       "      <th>3</th>\n",
       "      <td>316959</td>\n",
       "      <td>downtown brooklyn</td>\n",
       "    </tr>\n",
       "    <tr>\n",
       "      <th>4</th>\n",
       "      <td>515031</td>\n",
       "      <td>pennsylvania house of representatives</td>\n",
       "    </tr>\n",
       "    <tr>\n",
       "      <th>...</th>\n",
       "      <td>...</td>\n",
       "      <td>...</td>\n",
       "    </tr>\n",
       "    <tr>\n",
       "      <th>1439</th>\n",
       "      <td>896124</td>\n",
       "      <td>british ceylon</td>\n",
       "    </tr>\n",
       "    <tr>\n",
       "      <th>1440</th>\n",
       "      <td>12319</td>\n",
       "      <td>scottish national party</td>\n",
       "    </tr>\n",
       "    <tr>\n",
       "      <th>1441</th>\n",
       "      <td>4421</td>\n",
       "      <td>cinema of china</td>\n",
       "    </tr>\n",
       "    <tr>\n",
       "      <th>1442</th>\n",
       "      <td>296526</td>\n",
       "      <td>gold mining</td>\n",
       "    </tr>\n",
       "    <tr>\n",
       "      <th>1443</th>\n",
       "      <td>341793</td>\n",
       "      <td>gloucestershire county cricket club</td>\n",
       "    </tr>\n",
       "  </tbody>\n",
       "</table>\n",
       "<p>1444 rows × 2 columns</p>\n",
       "</div>"
      ],
      "text/plain": [
       "      id_left                              text_left\n",
       "0      123839                                  yanni\n",
       "1      188629                                  k pop\n",
       "2       13898                   venice film festival\n",
       "3      316959                      downtown brooklyn\n",
       "4      515031  pennsylvania house of representatives\n",
       "...       ...                                    ...\n",
       "1439   896124                         british ceylon\n",
       "1440    12319                scottish national party\n",
       "1441     4421                        cinema of china\n",
       "1442   296526                            gold mining\n",
       "1443   341793    gloucestershire county cricket club\n",
       "\n",
       "[1444 rows x 2 columns]"
      ]
     },
     "execution_count": 112,
     "metadata": {},
     "output_type": "execute_result"
    }
   ],
   "source": [
    "queries_train"
   ]
  },
  {
   "cell_type": "markdown",
   "id": "d5c834d3",
   "metadata": {},
   "source": [
    "Cutting such that we have all relevant documents + up to 10 docs nonrelevant documents for each query"
   ]
  },
  {
   "cell_type": "code",
   "execution_count": 41,
   "id": "81b072f9",
   "metadata": {},
   "outputs": [],
   "source": [
    "relevant_train = df_train.drop(df_train[df_train.rl== 0].index)\n",
    "nonrelevant_train = df_train.drop(df_train[df_train.rl!= 0].index)\n",
    "nonrelevant_train10 = pd.concat(nonrelevant_train.iloc[x] \n",
    "                                for x in [np.where(nonrelevant_train['q'] == nonrelevant_train['q'].unique()[j])[0][0:10] \n",
    "                                          for j in range(len(nonrelevant_train['q'].unique()))])\n",
    "df_train_cut = pd.concat([relevant_train, nonrelevant_train10])"
   ]
  },
  {
   "cell_type": "code",
   "execution_count": 113,
   "id": "aecfa590",
   "metadata": {},
   "outputs": [
    {
     "data": {
      "text/html": [
       "<div>\n",
       "<style scoped>\n",
       "    .dataframe tbody tr th:only-of-type {\n",
       "        vertical-align: middle;\n",
       "    }\n",
       "\n",
       "    .dataframe tbody tr th {\n",
       "        vertical-align: top;\n",
       "    }\n",
       "\n",
       "    .dataframe thead th {\n",
       "        text-align: right;\n",
       "    }\n",
       "</style>\n",
       "<table border=\"1\" class=\"dataframe\">\n",
       "  <thead>\n",
       "    <tr style=\"text-align: right;\">\n",
       "      <th></th>\n",
       "      <th>q</th>\n",
       "      <th>n_u</th>\n",
       "      <th>d</th>\n",
       "      <th>r</th>\n",
       "      <th>s</th>\n",
       "      <th>rn</th>\n",
       "      <th>rl</th>\n",
       "      <th>ql</th>\n",
       "      <th>dl</th>\n",
       "      <th>phm</th>\n",
       "      <th>nmq</th>\n",
       "    </tr>\n",
       "  </thead>\n",
       "  <tbody>\n",
       "    <tr>\n",
       "      <th>0</th>\n",
       "      <td>123839</td>\n",
       "      <td>Q0</td>\n",
       "      <td>806300</td>\n",
       "      <td>0</td>\n",
       "      <td>20.720094194011075</td>\n",
       "      <td>BM25</td>\n",
       "      <td>1</td>\n",
       "      <td>1</td>\n",
       "      <td>200</td>\n",
       "      <td>1</td>\n",
       "      <td>1</td>\n",
       "    </tr>\n",
       "    <tr>\n",
       "      <th>1</th>\n",
       "      <td>123839</td>\n",
       "      <td>Q0</td>\n",
       "      <td>123839</td>\n",
       "      <td>1</td>\n",
       "      <td>19.91782871489318</td>\n",
       "      <td>BM25</td>\n",
       "      <td>2</td>\n",
       "      <td>1</td>\n",
       "      <td>200</td>\n",
       "      <td>1</td>\n",
       "      <td>1</td>\n",
       "    </tr>\n",
       "    <tr>\n",
       "      <th>2</th>\n",
       "      <td>123839</td>\n",
       "      <td>Q0</td>\n",
       "      <td>836567</td>\n",
       "      <td>2</td>\n",
       "      <td>18.824522997710037</td>\n",
       "      <td>BM25</td>\n",
       "      <td>1</td>\n",
       "      <td>1</td>\n",
       "      <td>200</td>\n",
       "      <td>1</td>\n",
       "      <td>1</td>\n",
       "    </tr>\n",
       "    <tr>\n",
       "      <th>4</th>\n",
       "      <td>123839</td>\n",
       "      <td>Q0</td>\n",
       "      <td>806075</td>\n",
       "      <td>4</td>\n",
       "      <td>17.246712972547066</td>\n",
       "      <td>BM25</td>\n",
       "      <td>1</td>\n",
       "      <td>1</td>\n",
       "      <td>200</td>\n",
       "      <td>1</td>\n",
       "      <td>1</td>\n",
       "    </tr>\n",
       "    <tr>\n",
       "      <th>5</th>\n",
       "      <td>123839</td>\n",
       "      <td>Q0</td>\n",
       "      <td>1793430</td>\n",
       "      <td>5</td>\n",
       "      <td>17.246712972547066</td>\n",
       "      <td>BM25</td>\n",
       "      <td>1</td>\n",
       "      <td>1</td>\n",
       "      <td>200</td>\n",
       "      <td>1</td>\n",
       "      <td>1</td>\n",
       "    </tr>\n",
       "    <tr>\n",
       "      <th>...</th>\n",
       "      <td>...</td>\n",
       "      <td>...</td>\n",
       "      <td>...</td>\n",
       "      <td>...</td>\n",
       "      <td>...</td>\n",
       "      <td>...</td>\n",
       "      <td>...</td>\n",
       "      <td>...</td>\n",
       "      <td>...</td>\n",
       "      <td>...</td>\n",
       "      <td>...</td>\n",
       "    </tr>\n",
       "    <tr>\n",
       "      <th>144252</th>\n",
       "      <td>296526</td>\n",
       "      <td>Q0</td>\n",
       "      <td>1369882</td>\n",
       "      <td>52</td>\n",
       "      <td>14.750173252211724</td>\n",
       "      <td>BM25</td>\n",
       "      <td>1</td>\n",
       "      <td>2</td>\n",
       "      <td>200</td>\n",
       "      <td>0</td>\n",
       "      <td>2</td>\n",
       "    </tr>\n",
       "    <tr>\n",
       "      <th>144267</th>\n",
       "      <td>296526</td>\n",
       "      <td>Q0</td>\n",
       "      <td>1438397</td>\n",
       "      <td>67</td>\n",
       "      <td>13.956645218404534</td>\n",
       "      <td>BM25</td>\n",
       "      <td>1</td>\n",
       "      <td>2</td>\n",
       "      <td>200</td>\n",
       "      <td>0</td>\n",
       "      <td>2</td>\n",
       "    </tr>\n",
       "    <tr>\n",
       "      <th>144275</th>\n",
       "      <td>296526</td>\n",
       "      <td>Q0</td>\n",
       "      <td>1438101</td>\n",
       "      <td>75</td>\n",
       "      <td>13.59692873773307</td>\n",
       "      <td>BM25</td>\n",
       "      <td>1</td>\n",
       "      <td>2</td>\n",
       "      <td>200</td>\n",
       "      <td>0</td>\n",
       "      <td>2</td>\n",
       "    </tr>\n",
       "    <tr>\n",
       "      <th>144278</th>\n",
       "      <td>296526</td>\n",
       "      <td>Q0</td>\n",
       "      <td>1487772</td>\n",
       "      <td>78</td>\n",
       "      <td>13.59692873773307</td>\n",
       "      <td>BM25</td>\n",
       "      <td>1</td>\n",
       "      <td>2</td>\n",
       "      <td>200</td>\n",
       "      <td>0</td>\n",
       "      <td>2</td>\n",
       "    </tr>\n",
       "    <tr>\n",
       "      <th>144395</th>\n",
       "      <td>341793</td>\n",
       "      <td>Q0</td>\n",
       "      <td>341793</td>\n",
       "      <td>95</td>\n",
       "      <td>14.191701846052652</td>\n",
       "      <td>BM25</td>\n",
       "      <td>2</td>\n",
       "      <td>4</td>\n",
       "      <td>200</td>\n",
       "      <td>0</td>\n",
       "      <td>4</td>\n",
       "    </tr>\n",
       "  </tbody>\n",
       "</table>\n",
       "<p>6173 rows × 11 columns</p>\n",
       "</div>"
      ],
      "text/plain": [
       "             q n_u        d   r                   s    rn  rl  ql   dl  phm  \\\n",
       "0       123839  Q0   806300   0  20.720094194011075  BM25   1   1  200    1   \n",
       "1       123839  Q0   123839   1   19.91782871489318  BM25   2   1  200    1   \n",
       "2       123839  Q0   836567   2  18.824522997710037  BM25   1   1  200    1   \n",
       "4       123839  Q0   806075   4  17.246712972547066  BM25   1   1  200    1   \n",
       "5       123839  Q0  1793430   5  17.246712972547066  BM25   1   1  200    1   \n",
       "...        ...  ..      ...  ..                 ...   ...  ..  ..  ...  ...   \n",
       "144252  296526  Q0  1369882  52  14.750173252211724  BM25   1   2  200    0   \n",
       "144267  296526  Q0  1438397  67  13.956645218404534  BM25   1   2  200    0   \n",
       "144275  296526  Q0  1438101  75   13.59692873773307  BM25   1   2  200    0   \n",
       "144278  296526  Q0  1487772  78   13.59692873773307  BM25   1   2  200    0   \n",
       "144395  341793  Q0   341793  95  14.191701846052652  BM25   2   4  200    0   \n",
       "\n",
       "        nmq  \n",
       "0         1  \n",
       "1         1  \n",
       "2         1  \n",
       "4         1  \n",
       "5         1  \n",
       "...     ...  \n",
       "144252    2  \n",
       "144267    2  \n",
       "144275    2  \n",
       "144278    2  \n",
       "144395    4  \n",
       "\n",
       "[6173 rows x 11 columns]"
      ]
     },
     "execution_count": 113,
     "metadata": {},
     "output_type": "execute_result"
    }
   ],
   "source": [
    "relevant_train"
   ]
  },
  {
   "cell_type": "code",
   "execution_count": 99,
   "id": "6dd187b7",
   "metadata": {},
   "outputs": [
    {
     "data": {
      "text/html": [
       "<div>\n",
       "<style scoped>\n",
       "    .dataframe tbody tr th:only-of-type {\n",
       "        vertical-align: middle;\n",
       "    }\n",
       "\n",
       "    .dataframe tbody tr th {\n",
       "        vertical-align: top;\n",
       "    }\n",
       "\n",
       "    .dataframe thead th {\n",
       "        text-align: right;\n",
       "    }\n",
       "</style>\n",
       "<table border=\"1\" class=\"dataframe\">\n",
       "  <thead>\n",
       "    <tr style=\"text-align: right;\">\n",
       "      <th></th>\n",
       "      <th>q</th>\n",
       "      <th>rl</th>\n",
       "      <th>s</th>\n",
       "      <th>ql</th>\n",
       "      <th>dl</th>\n",
       "      <th>phm</th>\n",
       "      <th>nmq</th>\n",
       "    </tr>\n",
       "  </thead>\n",
       "  <tbody>\n",
       "    <tr>\n",
       "      <th>0</th>\n",
       "      <td>123839</td>\n",
       "      <td>1</td>\n",
       "      <td>20.720094194011075</td>\n",
       "      <td>1</td>\n",
       "      <td>200</td>\n",
       "      <td>1</td>\n",
       "      <td>1</td>\n",
       "    </tr>\n",
       "    <tr>\n",
       "      <th>1</th>\n",
       "      <td>123839</td>\n",
       "      <td>2</td>\n",
       "      <td>19.91782871489318</td>\n",
       "      <td>1</td>\n",
       "      <td>200</td>\n",
       "      <td>1</td>\n",
       "      <td>1</td>\n",
       "    </tr>\n",
       "    <tr>\n",
       "      <th>2</th>\n",
       "      <td>123839</td>\n",
       "      <td>1</td>\n",
       "      <td>18.824522997710037</td>\n",
       "      <td>1</td>\n",
       "      <td>200</td>\n",
       "      <td>1</td>\n",
       "      <td>1</td>\n",
       "    </tr>\n",
       "    <tr>\n",
       "      <th>4</th>\n",
       "      <td>123839</td>\n",
       "      <td>1</td>\n",
       "      <td>17.246712972547066</td>\n",
       "      <td>1</td>\n",
       "      <td>200</td>\n",
       "      <td>1</td>\n",
       "      <td>1</td>\n",
       "    </tr>\n",
       "    <tr>\n",
       "      <th>5</th>\n",
       "      <td>123839</td>\n",
       "      <td>1</td>\n",
       "      <td>17.246712972547066</td>\n",
       "      <td>1</td>\n",
       "      <td>200</td>\n",
       "      <td>1</td>\n",
       "      <td>1</td>\n",
       "    </tr>\n",
       "    <tr>\n",
       "      <th>...</th>\n",
       "      <td>...</td>\n",
       "      <td>...</td>\n",
       "      <td>...</td>\n",
       "      <td>...</td>\n",
       "      <td>...</td>\n",
       "      <td>...</td>\n",
       "      <td>...</td>\n",
       "    </tr>\n",
       "    <tr>\n",
       "      <th>144305</th>\n",
       "      <td>341793</td>\n",
       "      <td>0</td>\n",
       "      <td>16.31737881723864</td>\n",
       "      <td>4</td>\n",
       "      <td>200</td>\n",
       "      <td>0</td>\n",
       "      <td>2</td>\n",
       "    </tr>\n",
       "    <tr>\n",
       "      <th>144306</th>\n",
       "      <td>341793</td>\n",
       "      <td>0</td>\n",
       "      <td>16.150794491115548</td>\n",
       "      <td>4</td>\n",
       "      <td>200</td>\n",
       "      <td>0</td>\n",
       "      <td>2</td>\n",
       "    </tr>\n",
       "    <tr>\n",
       "      <th>144307</th>\n",
       "      <td>341793</td>\n",
       "      <td>0</td>\n",
       "      <td>16.122447953779385</td>\n",
       "      <td>4</td>\n",
       "      <td>200</td>\n",
       "      <td>0</td>\n",
       "      <td>3</td>\n",
       "    </tr>\n",
       "    <tr>\n",
       "      <th>144308</th>\n",
       "      <td>341793</td>\n",
       "      <td>0</td>\n",
       "      <td>16.122447953779385</td>\n",
       "      <td>4</td>\n",
       "      <td>200</td>\n",
       "      <td>0</td>\n",
       "      <td>3</td>\n",
       "    </tr>\n",
       "    <tr>\n",
       "      <th>144309</th>\n",
       "      <td>341793</td>\n",
       "      <td>0</td>\n",
       "      <td>15.916908816586776</td>\n",
       "      <td>4</td>\n",
       "      <td>200</td>\n",
       "      <td>0</td>\n",
       "      <td>2</td>\n",
       "    </tr>\n",
       "  </tbody>\n",
       "</table>\n",
       "<p>20613 rows × 7 columns</p>\n",
       "</div>"
      ],
      "text/plain": [
       "             q  rl                   s  ql   dl  phm  nmq\n",
       "0       123839   1  20.720094194011075   1  200    1    1\n",
       "1       123839   2   19.91782871489318   1  200    1    1\n",
       "2       123839   1  18.824522997710037   1  200    1    1\n",
       "4       123839   1  17.246712972547066   1  200    1    1\n",
       "5       123839   1  17.246712972547066   1  200    1    1\n",
       "...        ...  ..                 ...  ..  ...  ...  ...\n",
       "144305  341793   0   16.31737881723864   4  200    0    2\n",
       "144306  341793   0  16.150794491115548   4  200    0    2\n",
       "144307  341793   0  16.122447953779385   4  200    0    3\n",
       "144308  341793   0  16.122447953779385   4  200    0    3\n",
       "144309  341793   0  15.916908816586776   4  200    0    2\n",
       "\n",
       "[20613 rows x 7 columns]"
      ]
     },
     "execution_count": 99,
     "metadata": {},
     "output_type": "execute_result"
    }
   ],
   "source": [
    "df_train_cut[['q','rl','s','ql','dl','phm','nmq']]"
   ]
  },
  {
   "cell_type": "code",
   "execution_count": 52,
   "id": "8b16e6af",
   "metadata": {},
   "outputs": [],
   "source": [
    "df_test = pd.read_csv('wikIR/test/BM25.res', header=None, names=['q'])\n",
    "df_test[['q', 'n_u', 'd', 'r', 's', 'rn']] = df_test.q.str.split(expand=True)\n",
    "qrels_test  = pd.read_table('wikIR/test/qrels', header = None, names = ['id_left', 'n_u', 'id_right', 'label'])\n",
    "df_test['rl'] = pd.Series([0 if len(np.where((qrels_test['id_left'] == int(df_test['q'][i]))&\n",
    "                                             (qrels_test['id_right']==int(df_test['d'][i])))[0])== 0 \n",
    "                           else qrels_test['label'][np.where((qrels_test['id_left'] == int(df_test['q'][i]))&\n",
    "                                                             (qrels_test['id_right']==int(df_test['d'][i])))[0][0]] \n",
    "                           for i in range(len(df_test))])"
   ]
  },
  {
   "cell_type": "code",
   "execution_count": 53,
   "id": "10682a86",
   "metadata": {},
   "outputs": [],
   "source": [
    "queries_test = pd.read_csv('wikIR/test/queries.csv')\n",
    "queries_test_splt = [x.split(' ') for x in queries_test['text_left'].tolist()]  \n",
    "queries_tests = pd.DataFrame(np.array([queries_test['id_left'].tolist(),\n",
    "                                       [len(x) for x in queries_test_splt]]).T, columns=['id_left', 'length'])"
   ]
  },
  {
   "cell_type": "code",
   "execution_count": 54,
   "id": "e6452d15",
   "metadata": {},
   "outputs": [],
   "source": [
    "df_test['ql'] = [queries_tests['length'][np.where(int(df_test['q'][i]) == queries_tests['id_left'])[0][0]] \n",
    "                 for i in range(len(df_test))]\n",
    "df_test['dl'] = [docs['length'][np.where(int(df_test['d'][i]) == docs['id_right'])[0][0]] \n",
    "                 for i in range(len(df_test))]\n",
    "df_test['phm'] = [1 if (queries_test['text_left'][np.where(queries_test['id_left']==int(df_test['q'][i]))[0][0]] \n",
    "                        in doc['text_right'][np.where(doc['id_right'] == int(df_test['d'][i]))[0][0]]) \n",
    "                  else 0 for i in range(len(df_test))]\n",
    "df_test['nmq'] = [sum([1 if (queries_test_splt[np.where(queries_test['id_left'] == int(df_test['q'][i]))[0][0]][j] \n",
    "                             in doc['text_right'][np.where(doc['id_right'] == int(df_test['d'][i]))[0][0]]) \n",
    "                       else 0 \n",
    "                       for j in range(len(queries_test_splt\n",
    "                                          [np.where(queries_test['id_left'] == int(df_test['q'][i]))[0][0]]))]) \n",
    "                  for i in range(len(df_test))]"
   ]
  },
  {
   "cell_type": "code",
   "execution_count": 55,
   "id": "68141e6e",
   "metadata": {},
   "outputs": [],
   "source": [
    "relevant_test = df_test.drop(df_test[df_test.rl== 0].index)\n",
    "nonrelevant_test = df_test.drop(df_test[df_test.rl!= 0].index)\n",
    "nonrelevant_test10 = pd.concat(nonrelevant_test.iloc[x] \n",
    "                               for x in [np.where(nonrelevant_test['q'] == nonrelevant_test['q'].unique()[j])[0][0:10] \n",
    "                                         for j in range(len(nonrelevant_test['q'].unique()))])\n",
    "df_test_cut = pd.concat([relevant_test, nonrelevant_test10])"
   ]
  },
  {
   "cell_type": "code",
   "execution_count": 100,
   "id": "0c15e4f3",
   "metadata": {},
   "outputs": [
    {
     "data": {
      "text/html": [
       "<div>\n",
       "<style scoped>\n",
       "    .dataframe tbody tr th:only-of-type {\n",
       "        vertical-align: middle;\n",
       "    }\n",
       "\n",
       "    .dataframe tbody tr th {\n",
       "        vertical-align: top;\n",
       "    }\n",
       "\n",
       "    .dataframe thead th {\n",
       "        text-align: right;\n",
       "    }\n",
       "</style>\n",
       "<table border=\"1\" class=\"dataframe\">\n",
       "  <thead>\n",
       "    <tr style=\"text-align: right;\">\n",
       "      <th></th>\n",
       "      <th>q</th>\n",
       "      <th>rl</th>\n",
       "      <th>s</th>\n",
       "      <th>ql</th>\n",
       "      <th>dl</th>\n",
       "      <th>phm</th>\n",
       "      <th>nmq</th>\n",
       "    </tr>\n",
       "  </thead>\n",
       "  <tbody>\n",
       "    <tr>\n",
       "      <th>18</th>\n",
       "      <td>158491</td>\n",
       "      <td>2</td>\n",
       "      <td>13.473990503467475</td>\n",
       "      <td>3</td>\n",
       "      <td>200</td>\n",
       "      <td>0</td>\n",
       "      <td>3</td>\n",
       "    </tr>\n",
       "    <tr>\n",
       "      <th>100</th>\n",
       "      <td>5728</td>\n",
       "      <td>2</td>\n",
       "      <td>19.198156123814513</td>\n",
       "      <td>1</td>\n",
       "      <td>200</td>\n",
       "      <td>1</td>\n",
       "      <td>1</td>\n",
       "    </tr>\n",
       "    <tr>\n",
       "      <th>107</th>\n",
       "      <td>5728</td>\n",
       "      <td>1</td>\n",
       "      <td>9.290534282498049</td>\n",
       "      <td>1</td>\n",
       "      <td>200</td>\n",
       "      <td>1</td>\n",
       "      <td>1</td>\n",
       "    </tr>\n",
       "    <tr>\n",
       "      <th>127</th>\n",
       "      <td>5728</td>\n",
       "      <td>1</td>\n",
       "      <td>9.290534282498049</td>\n",
       "      <td>1</td>\n",
       "      <td>200</td>\n",
       "      <td>1</td>\n",
       "      <td>1</td>\n",
       "    </tr>\n",
       "    <tr>\n",
       "      <th>130</th>\n",
       "      <td>5728</td>\n",
       "      <td>1</td>\n",
       "      <td>9.290534282498049</td>\n",
       "      <td>1</td>\n",
       "      <td>200</td>\n",
       "      <td>1</td>\n",
       "      <td>1</td>\n",
       "    </tr>\n",
       "    <tr>\n",
       "      <th>...</th>\n",
       "      <td>...</td>\n",
       "      <td>...</td>\n",
       "      <td>...</td>\n",
       "      <td>...</td>\n",
       "      <td>...</td>\n",
       "      <td>...</td>\n",
       "      <td>...</td>\n",
       "    </tr>\n",
       "    <tr>\n",
       "      <th>9905</th>\n",
       "      <td>712704</td>\n",
       "      <td>0</td>\n",
       "      <td>10.195791954566438</td>\n",
       "      <td>2</td>\n",
       "      <td>190</td>\n",
       "      <td>0</td>\n",
       "      <td>0</td>\n",
       "    </tr>\n",
       "    <tr>\n",
       "      <th>9906</th>\n",
       "      <td>712704</td>\n",
       "      <td>0</td>\n",
       "      <td>9.9875412430656</td>\n",
       "      <td>2</td>\n",
       "      <td>199</td>\n",
       "      <td>0</td>\n",
       "      <td>0</td>\n",
       "    </tr>\n",
       "    <tr>\n",
       "      <th>9907</th>\n",
       "      <td>712704</td>\n",
       "      <td>0</td>\n",
       "      <td>9.964926216266763</td>\n",
       "      <td>2</td>\n",
       "      <td>200</td>\n",
       "      <td>0</td>\n",
       "      <td>0</td>\n",
       "    </tr>\n",
       "    <tr>\n",
       "      <th>9908</th>\n",
       "      <td>712704</td>\n",
       "      <td>0</td>\n",
       "      <td>9.964926216266763</td>\n",
       "      <td>2</td>\n",
       "      <td>200</td>\n",
       "      <td>0</td>\n",
       "      <td>0</td>\n",
       "    </tr>\n",
       "    <tr>\n",
       "      <th>9909</th>\n",
       "      <td>712704</td>\n",
       "      <td>0</td>\n",
       "      <td>9.964926216266763</td>\n",
       "      <td>2</td>\n",
       "      <td>200</td>\n",
       "      <td>0</td>\n",
       "      <td>1</td>\n",
       "    </tr>\n",
       "  </tbody>\n",
       "</table>\n",
       "<p>1358 rows × 7 columns</p>\n",
       "</div>"
      ],
      "text/plain": [
       "           q  rl                   s  ql   dl  phm  nmq\n",
       "18    158491   2  13.473990503467475   3  200    0    3\n",
       "100     5728   2  19.198156123814513   1  200    1    1\n",
       "107     5728   1   9.290534282498049   1  200    1    1\n",
       "127     5728   1   9.290534282498049   1  200    1    1\n",
       "130     5728   1   9.290534282498049   1  200    1    1\n",
       "...      ...  ..                 ...  ..  ...  ...  ...\n",
       "9905  712704   0  10.195791954566438   2  190    0    0\n",
       "9906  712704   0     9.9875412430656   2  199    0    0\n",
       "9907  712704   0   9.964926216266763   2  200    0    0\n",
       "9908  712704   0   9.964926216266763   2  200    0    0\n",
       "9909  712704   0   9.964926216266763   2  200    0    1\n",
       "\n",
       "[1358 rows x 7 columns]"
      ]
     },
     "execution_count": 100,
     "metadata": {},
     "output_type": "execute_result"
    }
   ],
   "source": [
    "df_test_cut[['q','rl','s','ql','dl','phm','nmq']]"
   ]
  },
  {
   "cell_type": "code",
   "execution_count": 59,
   "id": "4dd3c210",
   "metadata": {},
   "outputs": [],
   "source": [
    "df_train['s'] = [float(x) for x in df_train['s']]\n",
    "df_test['s'] = [float(x) for x in df_test['s']]"
   ]
  },
  {
   "cell_type": "code",
   "execution_count": 60,
   "id": "cc204d7e",
   "metadata": {},
   "outputs": [],
   "source": [
    "train_df = df_train[['rl','q', 's','ql','dl','phm','nmq']]\n",
    "test_df = df_test[['rl','q', 's','ql','dl','phm','nmq']]"
   ]
  },
  {
   "cell_type": "code",
   "execution_count": 61,
   "id": "7789c2ac",
   "metadata": {},
   "outputs": [],
   "source": [
    "X_train_opt = train_df.drop(['rl','q'], axis=1).values\n",
    "y_train_opt = train_df['rl'].values\n",
    "queries_train_opt = train_df['q'].values\n",
    "\n",
    "X_test_opt = test_df.drop(['rl','q'], axis=1).values\n",
    "y_test_opt = test_df['rl'].values\n",
    "queries_test_opt = test_df['q'].values"
   ]
  },
  {
   "cell_type": "markdown",
   "id": "db1ccbd5",
   "metadata": {},
   "source": [
    "Scaling into [0,1] range"
   ]
  },
  {
   "cell_type": "code",
   "execution_count": 62,
   "id": "3e51a22a",
   "metadata": {},
   "outputs": [],
   "source": [
    "max_relevance_opt = np.max(y_train_opt)\n",
    "y_train_opt = y_train_opt/ max_relevance_opt\n",
    "y_test_opt = y_test_opt / max_relevance_opt"
   ]
  },
  {
   "cell_type": "code",
   "execution_count": 63,
   "id": "97dc0bcc",
   "metadata": {},
   "outputs": [],
   "source": [
    "train_opt = Pool(\n",
    "    data=X_train_opt,\n",
    "    label=y_train_opt,\n",
    "    group_id=queries_train_opt\n",
    ")\n",
    "\n",
    "test_opt = Pool(\n",
    "    data=X_test_opt,\n",
    "    label=y_test_opt,\n",
    "    group_id=queries_test_opt\n",
    ")"
   ]
  },
  {
   "cell_type": "markdown",
   "id": "9a64f743",
   "metadata": {},
   "source": [
    "### Fitting models\n",
    "\n",
    "I used only 700 iterations."
   ]
  },
  {
   "cell_type": "code",
   "execution_count": 102,
   "id": "57d2f635",
   "metadata": {},
   "outputs": [
    {
     "data": {
      "application/vnd.jupyter.widget-view+json": {
       "model_id": "4249b43ccb424fbc85256af5bb4c813a",
       "version_major": 2,
       "version_minor": 0
      },
      "text/plain": [
       "MetricVisualizer(layout=Layout(align_self='stretch', height='500px'))"
      ]
     },
     "metadata": {},
     "output_type": "display_data"
    },
    {
     "data": {
      "text/plain": [
       "<catboost.core.CatBoostRanker at 0x1ab96e17490>"
      ]
     },
     "execution_count": 102,
     "metadata": {},
     "output_type": "execute_result"
    }
   ],
   "source": [
    "fit_model('YetiRank',{'train_dir': 'YetiRank-opt', 'iterations' : 700 },train_pool=train_opt, test_pool=test_opt)"
   ]
  },
  {
   "cell_type": "code",
   "execution_count": 103,
   "id": "170ca1df",
   "metadata": {},
   "outputs": [
    {
     "data": {
      "application/vnd.jupyter.widget-view+json": {
       "model_id": "a4dc7e772a534d8199509c431216aeee",
       "version_major": 2,
       "version_minor": 0
      },
      "text/plain": [
       "MetricVisualizer(layout=Layout(align_self='stretch', height='500px'))"
      ]
     },
     "metadata": {},
     "output_type": "display_data"
    },
    {
     "data": {
      "text/plain": [
       "<catboost.core.CatBoostRanker at 0x1ab96e19f00>"
      ]
     },
     "execution_count": 103,
     "metadata": {},
     "output_type": "execute_result"
    }
   ],
   "source": [
    "fit_model('PairLogit',{'train_dir': 'PairLogit-opt', 'iterations' : 700 }, train_pool=train_opt, test_pool=test_opt)"
   ]
  },
  {
   "cell_type": "code",
   "execution_count": 104,
   "id": "310c365e",
   "metadata": {},
   "outputs": [
    {
     "data": {
      "application/vnd.jupyter.widget-view+json": {
       "model_id": "6e7260bd85084e27b21e123cc241af72",
       "version_major": 2,
       "version_minor": 0
      },
      "text/plain": [
       "MetricVisualizer(layout=Layout(align_self='stretch', height='500px'))"
      ]
     },
     "metadata": {},
     "output_type": "display_data"
    }
   ],
   "source": [
    "widget = MetricVisualizer(['PairLogit-opt', 'YetiRank-opt'])\n",
    "widget.start()"
   ]
  }
 ],
 "metadata": {
  "kernelspec": {
   "display_name": "Python 3 (ipykernel)",
   "language": "python",
   "name": "python3"
  },
  "language_info": {
   "codemirror_mode": {
    "name": "ipython",
    "version": 3
   },
   "file_extension": ".py",
   "mimetype": "text/x-python",
   "name": "python",
   "nbconvert_exporter": "python",
   "pygments_lexer": "ipython3",
   "version": "3.10.8"
  }
 },
 "nbformat": 4,
 "nbformat_minor": 5
}
