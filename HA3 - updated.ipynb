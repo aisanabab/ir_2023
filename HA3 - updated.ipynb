{
 "cells": [
  {
   "cell_type": "code",
   "execution_count": 1,
   "id": "b471a06b",
   "metadata": {},
   "outputs": [],
   "source": [
    "from catboost import CatBoostRanker, Pool, MetricVisualizer\n",
    "from copy import deepcopy\n",
    "import numpy as np\n",
    "import os\n",
    "import pandas as pd\n",
    "from tqdm import tqdm\n",
    "from collections import Counter\n",
    "from elasticsearch import Elasticsearch    # elasticsearch will extract features from query-document pairs for us\n",
    "from elasticsearch.helpers import bulk, parallel_bulk\n",
    "import ir_measures\n",
    "from ir_measures import *\n",
    "import json\n",
    "import requests\n",
    "import re\n",
    "import time"
   ]
  },
  {
   "cell_type": "markdown",
   "id": "2c75a343",
   "metadata": {},
   "source": [
    "### Connecting to Elasticsearch (used to extract BM25 score)"
   ]
  },
  {
   "cell_type": "code",
   "execution_count": 2,
   "id": "c6aa8ad7",
   "metadata": {},
   "outputs": [],
   "source": [
    "es = Elasticsearch('http://localhost:9200')"
   ]
  },
  {
   "cell_type": "code",
   "execution_count": 3,
   "id": "1921004d",
   "metadata": {},
   "outputs": [],
   "source": [
    "index_name = 'wiki'"
   ]
  },
  {
   "cell_type": "code",
   "execution_count": 5,
   "id": "4f8622cf",
   "metadata": {},
   "outputs": [
    {
     "data": {
      "text/plain": [
       "ObjectApiResponse({'acknowledged': True, 'shards_acknowledged': True, 'index': 'wiki'})"
      ]
     },
     "execution_count": 5,
     "metadata": {},
     "output_type": "execute_result"
    }
   ],
   "source": [
    "mappings = {\n",
    "    'properties': {\n",
    "        'text': {\n",
    "            'type': 'text',\n",
    "            'analyzer': 'white'\n",
    "        }\n",
    "    }\n",
    "}\n",
    "\n",
    "settings = {\n",
    "    'analysis' : {\n",
    "        'analyzer' : {\n",
    "            'white' : {\n",
    "                'tokenizer' : 'whitespace'\n",
    "            }\n",
    "        }\n",
    "    }\n",
    "}\n",
    "\n",
    "if es.indices.exists(index=index_name):\n",
    "    es.indices.delete(index=index_name)\n",
    "es.indices.create(index=index_name, settings=settings, mappings=mappings)"
   ]
  },
  {
   "cell_type": "code",
   "execution_count": 6,
   "id": "1a8e3f7d",
   "metadata": {},
   "outputs": [],
   "source": [
    "doc = pd.read_csv('wikIR/documents.csv')"
   ]
  },
  {
   "cell_type": "code",
   "execution_count": 7,
   "id": "65201c15",
   "metadata": {},
   "outputs": [
    {
     "name": "stderr",
     "output_type": "stream",
     "text": [
      "100%|██████████████████████████████| 369721/369721 [01:39<00:00, 3727.35it/s]                                                                                                          \n"
     ]
    }
   ],
   "source": [
    "def create_es_action(index, doc_id, document):\n",
    "    return {\n",
    "        '_index': index,\n",
    "        '_id': doc_id,\n",
    "        '_source': document\n",
    "    }\n",
    "\n",
    "\n",
    "def es_action_generator(df):\n",
    "    for doc_id, row in tqdm(df.iterrows(), total=df.shape[0], bar_format='{l_bar}{bar:30}{r_bar}{bar:-10b}'):\n",
    "        doc = {\n",
    "            'text': row['text_right'],\n",
    "        }\n",
    "        yield create_es_action(index_name, row['id_right'], doc)\n",
    "\n",
    "\n",
    "for ok, result in parallel_bulk(es, es_action_generator(doc), queue_size=4, thread_count=4, chunk_size=1000):\n",
    "    if not ok:\n",
    "        print(result)\n"
   ]
  },
  {
   "cell_type": "code",
   "execution_count": 14,
   "id": "d5d5e63b",
   "metadata": {},
   "outputs": [],
   "source": [
    "def pretty_print_result(search_result, fields=[]):\n",
    "    res = search_result['hits']\n",
    "    print(f'Total documents: {res[\"total\"][\"value\"]}')\n",
    "    for hit in res['hits']:\n",
    "        print(f'Doc {hit[\"_id\"]}, score is {hit[\"_score\"]}')\n",
    "        for field in fields:\n",
    "            print(f'{field}: {hit[\"_source\"][field]}')\n",
    "    \n",
    "def search(query, *args):\n",
    "    return pretty_print_result(es.search(index=index_name, query=query, size=100), args)\n",
    "\n",
    "def get_doc_by_id(doc_id):\n",
    "    return es.get(index=index_name, id=doc_id)['_source']\n",
    "\n",
    "def make_query(text):\n",
    "    return {\n",
    "        \"bool\": {\n",
    "            'must': {\n",
    "                'match': {\n",
    "                    'text': text\n",
    "                }                    \n",
    "            },\n",
    "            'should': {\n",
    "                \"match_phrase\": {\n",
    "                    \"text\": {\n",
    "                        \"query\": text,\n",
    "                        'slop': 10,\n",
    "                    }\n",
    "                }\n",
    "            }\n",
    "        }\n",
    "    }\n",
    "\n",
    "def extract_BM25(index_name, query_text, doc_id):\n",
    "    \n",
    "   # request with explain parameter\n",
    "    headers = {\n",
    "        'Content-type': 'application/json',\n",
    "        'Accept': 'application/json',    }\n",
    "    json_data = {\n",
    "        'query': make_query(query_text)    } \n",
    "    res = ''\n",
    "    while res == '':\n",
    "        try:\n",
    "            res = requests.get(f'http://127.0.0.1:9200/wiki/_explain/{doc_id}', headers=headers, json=json_data).json()\n",
    "            break\n",
    "        except:\n",
    "            time.sleep(5)\n",
    "            continue\n",
    "    \n",
    "\n",
    "    total_score = 0\n",
    "    if res['matched']:\n",
    "        # BM25 score\n",
    "        total_score = res['explanation']['value']\n",
    "        \n",
    "    return  total_score\n"
   ]
  },
  {
   "cell_type": "markdown",
   "id": "914f97dd",
   "metadata": {},
   "source": [
    "### Extracting features (training data)"
   ]
  },
  {
   "cell_type": "code",
   "execution_count": 9,
   "id": "124252b4",
   "metadata": {},
   "outputs": [],
   "source": [
    "#queries\n",
    "queries_train = pd.read_csv('wikIR/training/queries.csv')\n",
    "\n",
    "#query length in words\n",
    "queries_train_splt = [x.split(' ') for x in queries_train['text_left'].tolist()]  \n",
    "queries_trains = pd.DataFrame(np.array([queries_train['id_left'].tolist(),\n",
    "                                        [len(x) for x in queries_train_splt]]).T, columns=['id_left', 'length'])"
   ]
  },
  {
   "cell_type": "code",
   "execution_count": 8,
   "id": "d631c659",
   "metadata": {},
   "outputs": [],
   "source": [
    "#document length in words\n",
    "doc_splt = [x.split(' ') for x in doc['text_right'].tolist()]  \n",
    "docs = pd.DataFrame(np.array([doc['id_right'].tolist(),[len(x) for x in doc_splt]]).T, columns=['id_right', 'length'])"
   ]
  },
  {
   "cell_type": "code",
   "execution_count": 10,
   "id": "0ce1b303",
   "metadata": {},
   "outputs": [],
   "source": [
    "#training data : relevant pairs\n",
    "df_train = pd.read_table('wikIR/training/qrels', header = None, names = ['q', 'n_u', 'd', 'rl'])"
   ]
  },
  {
   "cell_type": "code",
   "execution_count": 11,
   "id": "fa79228c",
   "metadata": {},
   "outputs": [],
   "source": [
    "# training data : BM25 runs\n",
    "df_train_run = pd.read_csv('wikIR/training/BM25.res', header=None, names=['q'])\n",
    "df_train_run[['q', 'n_u', 'd', 'r', 's', 'rn']] = df_train_run.q.str.split(expand=True)\n",
    "df_train_run['q'] = [int(x) for x in df_train_run['q']]"
   ]
  },
  {
   "cell_type": "code",
   "execution_count": 12,
   "id": "428c2f92",
   "metadata": {},
   "outputs": [],
   "source": [
    "#relevance judgements\n",
    "df_train_run['rl'] = pd.Series([0 if len(np.where((df_train['q'] == int(df_train_run['q'][i]))&\n",
    "                                              (df_train['d']==int(df_train_run['d'][i])))[0])== 0 \n",
    "                            else df_train['rl'][np.where((df_train['q'] == int(df_train_run['q'][i]))&\n",
    "                                                               (df_train['d']==int(df_train_run['d'][i])))[0][0]] \n",
    "                            for i in range(len(df_train_run))])"
   ]
  },
  {
   "cell_type": "code",
   "execution_count": 13,
   "id": "dca83ba0",
   "metadata": {},
   "outputs": [],
   "source": [
    "# relevant + 10 nonrelevant pairs\n",
    "nonrelevant_train = df_train_run.drop(df_train_run[df_train_run.rl != 0].index)\n",
    "nonrelevant_train10 = pd.concat(nonrelevant_train.iloc[x] \n",
    "                                for x in [np.where(nonrelevant_train['q'] == nonrelevant_train['q'].unique()[j])[0][0:10] \n",
    "                                          for j in range(len(nonrelevant_train['q'].unique()))])\n",
    "nonrelevant_train10  = nonrelevant_train10.drop(['r','s', 'rn'], axis = 1)\n",
    "df_train_cut = pd.concat([df_train, nonrelevant_train10]).sort_values(by=['q']).reset_index(drop=True)"
   ]
  },
  {
   "cell_type": "code",
   "execution_count": 15,
   "id": "9fad84fa",
   "metadata": {},
   "outputs": [],
   "source": [
    "#BM25 scores\n",
    "df_train_cut['s'] = [extract_BM25('wiki',queries_train['text_left']\n",
    "                                 [np.where(queries_train['id_left'] == df_train_cut['q'][i])[0][0]],df_train_cut['d'][i]) \n",
    "                     for i in range(len(df_train_cut))]"
   ]
  },
  {
   "cell_type": "code",
   "execution_count": 16,
   "id": "f1e73ec8",
   "metadata": {},
   "outputs": [],
   "source": [
    "#query length in words\n",
    "df_train_cut['ql'] = [queries_trains['length'][np.where(int(df_train_cut['q'][i]) == queries_trains['id_left'])[0][0]] \n",
    "                  for i in range(len(df_train_cut))]\n",
    "\n",
    "#document length in words\n",
    "df_train_cut['dl'] = [docs['length'][np.where(int(df_train_cut['d'][i]) == docs['id_right'])[0][0]] \n",
    "                  for i in range(len(df_train_cut))]\n",
    "\n",
    "#phrase matches\n",
    "df_train_cut['phm'] = [1 if (queries_train['text_left'][np.where(queries_train['id_left']==int(df_train_cut['q'][i]))[0][0]] \n",
    "                         in doc['text_right'][np.where(doc['id_right'] == int(df_train_cut['d'][i]))[0][0]]) \n",
    "                   else 0 for i in range(len(df_train_cut))]\n",
    "\n",
    "#number of matched queries\n",
    "df_train_cut['nmq'] = [sum([1 if (queries_train_splt[np.where(queries_train['id_left'] == int(df_train_cut['q'][i]))[0][0]][j] \n",
    "                              in doc['text_right'][np.where(doc['id_right'] == int(df_train_cut['d'][i]))[0][0]]) \n",
    "                        else 0 \n",
    "                        for j in range(len(queries_train_splt\n",
    "                                           [np.where(queries_train['id_left'] == int(df_train_cut['q'][i]))[0][0]]))]) \n",
    "                   for i in range(len(df_train_cut))]"
   ]
  },
  {
   "cell_type": "code",
   "execution_count": 17,
   "id": "44023b16",
   "metadata": {},
   "outputs": [],
   "source": [
    "# training data ready to use\n",
    "train = df_train_cut[['rl','q','s','ql','dl','phm', 'nmq']]"
   ]
  },
  {
   "cell_type": "code",
   "execution_count": 33,
   "id": "a0527f98",
   "metadata": {},
   "outputs": [
    {
     "data": {
      "text/html": [
       "<div>\n",
       "<style scoped>\n",
       "    .dataframe tbody tr th:only-of-type {\n",
       "        vertical-align: middle;\n",
       "    }\n",
       "\n",
       "    .dataframe tbody tr th {\n",
       "        vertical-align: top;\n",
       "    }\n",
       "\n",
       "    .dataframe thead th {\n",
       "        text-align: right;\n",
       "    }\n",
       "</style>\n",
       "<table border=\"1\" class=\"dataframe\">\n",
       "  <thead>\n",
       "    <tr style=\"text-align: right;\">\n",
       "      <th></th>\n",
       "      <th>rl</th>\n",
       "      <th>q</th>\n",
       "      <th>s</th>\n",
       "      <th>ql</th>\n",
       "      <th>dl</th>\n",
       "      <th>phm</th>\n",
       "      <th>nmq</th>\n",
       "    </tr>\n",
       "  </thead>\n",
       "  <tbody>\n",
       "    <tr>\n",
       "      <th>0</th>\n",
       "      <td>0</td>\n",
       "      <td>79</td>\n",
       "      <td>0.000000</td>\n",
       "      <td>1</td>\n",
       "      <td>200</td>\n",
       "      <td>0</td>\n",
       "      <td>0</td>\n",
       "    </tr>\n",
       "    <tr>\n",
       "      <th>1</th>\n",
       "      <td>0</td>\n",
       "      <td>79</td>\n",
       "      <td>0.000000</td>\n",
       "      <td>1</td>\n",
       "      <td>200</td>\n",
       "      <td>0</td>\n",
       "      <td>0</td>\n",
       "    </tr>\n",
       "    <tr>\n",
       "      <th>2</th>\n",
       "      <td>1</td>\n",
       "      <td>79</td>\n",
       "      <td>0.000000</td>\n",
       "      <td>1</td>\n",
       "      <td>200</td>\n",
       "      <td>0</td>\n",
       "      <td>0</td>\n",
       "    </tr>\n",
       "    <tr>\n",
       "      <th>3</th>\n",
       "      <td>0</td>\n",
       "      <td>79</td>\n",
       "      <td>0.000000</td>\n",
       "      <td>1</td>\n",
       "      <td>200</td>\n",
       "      <td>0</td>\n",
       "      <td>0</td>\n",
       "    </tr>\n",
       "    <tr>\n",
       "      <th>4</th>\n",
       "      <td>0</td>\n",
       "      <td>79</td>\n",
       "      <td>0.000000</td>\n",
       "      <td>1</td>\n",
       "      <td>200</td>\n",
       "      <td>0</td>\n",
       "      <td>0</td>\n",
       "    </tr>\n",
       "    <tr>\n",
       "      <th>...</th>\n",
       "      <td>...</td>\n",
       "      <td>...</td>\n",
       "      <td>...</td>\n",
       "      <td>...</td>\n",
       "      <td>...</td>\n",
       "      <td>...</td>\n",
       "      <td>...</td>\n",
       "    </tr>\n",
       "    <tr>\n",
       "      <th>62134</th>\n",
       "      <td>0</td>\n",
       "      <td>2433785</td>\n",
       "      <td>14.545878</td>\n",
       "      <td>3</td>\n",
       "      <td>200</td>\n",
       "      <td>0</td>\n",
       "      <td>1</td>\n",
       "    </tr>\n",
       "    <tr>\n",
       "      <th>62135</th>\n",
       "      <td>0</td>\n",
       "      <td>2433785</td>\n",
       "      <td>14.545878</td>\n",
       "      <td>3</td>\n",
       "      <td>200</td>\n",
       "      <td>0</td>\n",
       "      <td>1</td>\n",
       "    </tr>\n",
       "    <tr>\n",
       "      <th>62136</th>\n",
       "      <td>1</td>\n",
       "      <td>2433785</td>\n",
       "      <td>12.717758</td>\n",
       "      <td>3</td>\n",
       "      <td>200</td>\n",
       "      <td>0</td>\n",
       "      <td>1</td>\n",
       "    </tr>\n",
       "    <tr>\n",
       "      <th>62137</th>\n",
       "      <td>1</td>\n",
       "      <td>2433785</td>\n",
       "      <td>12.717758</td>\n",
       "      <td>3</td>\n",
       "      <td>200</td>\n",
       "      <td>0</td>\n",
       "      <td>1</td>\n",
       "    </tr>\n",
       "    <tr>\n",
       "      <th>62138</th>\n",
       "      <td>1</td>\n",
       "      <td>2433785</td>\n",
       "      <td>12.717758</td>\n",
       "      <td>3</td>\n",
       "      <td>200</td>\n",
       "      <td>0</td>\n",
       "      <td>1</td>\n",
       "    </tr>\n",
       "  </tbody>\n",
       "</table>\n",
       "<p>62139 rows × 7 columns</p>\n",
       "</div>"
      ],
      "text/plain": [
       "       rl        q          s  ql   dl  phm  nmq\n",
       "0       0       79   0.000000   1  200    0    0\n",
       "1       0       79   0.000000   1  200    0    0\n",
       "2       1       79   0.000000   1  200    0    0\n",
       "3       0       79   0.000000   1  200    0    0\n",
       "4       0       79   0.000000   1  200    0    0\n",
       "...    ..      ...        ...  ..  ...  ...  ...\n",
       "62134   0  2433785  14.545878   3  200    0    1\n",
       "62135   0  2433785  14.545878   3  200    0    1\n",
       "62136   1  2433785  12.717758   3  200    0    1\n",
       "62137   1  2433785  12.717758   3  200    0    1\n",
       "62138   1  2433785  12.717758   3  200    0    1\n",
       "\n",
       "[62139 rows x 7 columns]"
      ]
     },
     "execution_count": 33,
     "metadata": {},
     "output_type": "execute_result"
    }
   ],
   "source": [
    "train"
   ]
  },
  {
   "cell_type": "markdown",
   "id": "5ff9d1d7",
   "metadata": {},
   "source": [
    "### Extracting features (testing data)"
   ]
  },
  {
   "cell_type": "code",
   "execution_count": 18,
   "id": "68466ce0",
   "metadata": {},
   "outputs": [],
   "source": [
    "#queries\n",
    "queries_test = pd.read_csv('wikIR/test/queries.csv')\n",
    "\n",
    "#query length in words\n",
    "queries_test_splt = [x.split(' ') for x in queries_test['text_left'].tolist()]  \n",
    "queries_tests = pd.DataFrame(np.array([queries_test['id_left'].tolist(),\n",
    "                                       [len(x) for x in queries_test_splt]]).T, columns=['id_left', 'length'])"
   ]
  },
  {
   "cell_type": "code",
   "execution_count": 19,
   "id": "5b6d8a53",
   "metadata": {},
   "outputs": [],
   "source": [
    "#testing data : BM25 runs \n",
    "df_test = pd.read_csv('wikIR/test/BM25.res', header=None, names=['q'])\n",
    "df_test[['q', 'n_u', 'd', 'r', 's', 'rn']] = df_test.q.str.split(expand=True)\n",
    "\n",
    "qrels_test  = pd.read_table('wikIR/test/qrels', header = None, names = ['id_left', 'n_u', 'id_right', 'label'])\n",
    "\n",
    "#relevance judgements\n",
    "df_test['rl'] = pd.Series([0 if len(np.where((qrels_test['id_left'] == int(df_test['q'][i]))&\n",
    "                                             (qrels_test['id_right']==int(df_test['d'][i])))[0])== 0 \n",
    "                           else qrels_test['label'][np.where((qrels_test['id_left'] == int(df_test['q'][i]))&\n",
    "                                                             (qrels_test['id_right']==int(df_test['d'][i])))[0][0]] \n",
    "                           for i in range(len(df_test))])"
   ]
  },
  {
   "cell_type": "code",
   "execution_count": 20,
   "id": "c01e8bd1",
   "metadata": {},
   "outputs": [],
   "source": [
    "#taking only first 20 results\n",
    "df_test20 = pd.concat(df_test.iloc[x] \n",
    "                            for x in [np.where(df_test['q'] == df_test['q'].unique()[j])[0][0:20] \n",
    "                                          for j in range(len(df_test['q'].unique()))]).sort_values(by=['q']).reset_index(drop=True)\n"
   ]
  },
  {
   "cell_type": "code",
   "execution_count": 21,
   "id": "63379e13",
   "metadata": {},
   "outputs": [],
   "source": [
    "#query length in words\n",
    "df_test20['ql'] = [queries_tests['length'][np.where(int(df_test20['q'][i]) == queries_tests['id_left'])[0][0]] \n",
    "                 for i in range(len(df_test20))]\n",
    "\n",
    "#document length in words\n",
    "df_test20['dl'] = [docs['length'][np.where(int(df_test20['d'][i]) == docs['id_right'])[0][0]] \n",
    "                 for i in range(len(df_test20))]\n",
    "\n",
    "#phrase matches\n",
    "df_test20['phm'] = [1 if (queries_test['text_left'][np.where(queries_test['id_left']==int(df_test20['q'][i]))[0][0]] \n",
    "                        in doc['text_right'][np.where(doc['id_right'] == int(df_test20['d'][i]))[0][0]]) \n",
    "                  else 0 for i in range(len(df_test20))]\n",
    "\n",
    "#number of matched queries\n",
    "df_test20['nmq'] = [sum([1 if (queries_test_splt[np.where(queries_test['id_left'] == int(df_test20['q'][i]))[0][0]][j] \n",
    "                             in doc['text_right'][np.where(doc['id_right'] == int(df_test20['d'][i]))[0][0]]) \n",
    "                       else 0 \n",
    "                       for j in range(len(queries_test_splt\n",
    "                                          [np.where(queries_test['id_left'] == int(df_test20['q'][i]))[0][0]]))]) \n",
    "                  for i in range(len(df_test20))]"
   ]
  },
  {
   "cell_type": "code",
   "execution_count": 22,
   "id": "ca96b44b",
   "metadata": {},
   "outputs": [],
   "source": [
    "#BM25 scores\n",
    "df_test20['s'] = [extract_BM25('wiki',queries_test['text_left']\n",
    "                                 [np.where(queries_test['id_left'] == int(df_test20['q'][i]))[0][0]],df_test20['d'][i]) \n",
    "                     for i in range(len(df_test20))]"
   ]
  },
  {
   "cell_type": "code",
   "execution_count": 23,
   "id": "7882cd26",
   "metadata": {},
   "outputs": [],
   "source": [
    "test = df_test20[['rl','q','s','ql','dl','phm', 'nmq']]"
   ]
  },
  {
   "cell_type": "code",
   "execution_count": 34,
   "id": "7fe7ea0f",
   "metadata": {},
   "outputs": [
    {
     "data": {
      "text/html": [
       "<div>\n",
       "<style scoped>\n",
       "    .dataframe tbody tr th:only-of-type {\n",
       "        vertical-align: middle;\n",
       "    }\n",
       "\n",
       "    .dataframe tbody tr th {\n",
       "        vertical-align: top;\n",
       "    }\n",
       "\n",
       "    .dataframe thead th {\n",
       "        text-align: right;\n",
       "    }\n",
       "</style>\n",
       "<table border=\"1\" class=\"dataframe\">\n",
       "  <thead>\n",
       "    <tr style=\"text-align: right;\">\n",
       "      <th></th>\n",
       "      <th>rl</th>\n",
       "      <th>q</th>\n",
       "      <th>s</th>\n",
       "      <th>ql</th>\n",
       "      <th>dl</th>\n",
       "      <th>phm</th>\n",
       "      <th>nmq</th>\n",
       "    </tr>\n",
       "  </thead>\n",
       "  <tbody>\n",
       "    <tr>\n",
       "      <th>0</th>\n",
       "      <td>0</td>\n",
       "      <td>101626</td>\n",
       "      <td>11.455160</td>\n",
       "      <td>2</td>\n",
       "      <td>200</td>\n",
       "      <td>0</td>\n",
       "      <td>1</td>\n",
       "    </tr>\n",
       "    <tr>\n",
       "      <th>1</th>\n",
       "      <td>0</td>\n",
       "      <td>101626</td>\n",
       "      <td>11.736632</td>\n",
       "      <td>2</td>\n",
       "      <td>200</td>\n",
       "      <td>0</td>\n",
       "      <td>1</td>\n",
       "    </tr>\n",
       "    <tr>\n",
       "      <th>2</th>\n",
       "      <td>0</td>\n",
       "      <td>101626</td>\n",
       "      <td>11.736632</td>\n",
       "      <td>2</td>\n",
       "      <td>200</td>\n",
       "      <td>0</td>\n",
       "      <td>1</td>\n",
       "    </tr>\n",
       "    <tr>\n",
       "      <th>3</th>\n",
       "      <td>0</td>\n",
       "      <td>101626</td>\n",
       "      <td>11.841684</td>\n",
       "      <td>2</td>\n",
       "      <td>197</td>\n",
       "      <td>0</td>\n",
       "      <td>1</td>\n",
       "    </tr>\n",
       "    <tr>\n",
       "      <th>4</th>\n",
       "      <td>0</td>\n",
       "      <td>101626</td>\n",
       "      <td>11.956985</td>\n",
       "      <td>2</td>\n",
       "      <td>200</td>\n",
       "      <td>0</td>\n",
       "      <td>1</td>\n",
       "    </tr>\n",
       "    <tr>\n",
       "      <th>...</th>\n",
       "      <td>...</td>\n",
       "      <td>...</td>\n",
       "      <td>...</td>\n",
       "      <td>...</td>\n",
       "      <td>...</td>\n",
       "      <td>...</td>\n",
       "      <td>...</td>\n",
       "    </tr>\n",
       "    <tr>\n",
       "      <th>1995</th>\n",
       "      <td>0</td>\n",
       "      <td>996687</td>\n",
       "      <td>10.664045</td>\n",
       "      <td>2</td>\n",
       "      <td>200</td>\n",
       "      <td>0</td>\n",
       "      <td>1</td>\n",
       "    </tr>\n",
       "    <tr>\n",
       "      <th>1996</th>\n",
       "      <td>0</td>\n",
       "      <td>996687</td>\n",
       "      <td>10.664045</td>\n",
       "      <td>2</td>\n",
       "      <td>200</td>\n",
       "      <td>0</td>\n",
       "      <td>1</td>\n",
       "    </tr>\n",
       "    <tr>\n",
       "      <th>1997</th>\n",
       "      <td>1</td>\n",
       "      <td>996687</td>\n",
       "      <td>39.583195</td>\n",
       "      <td>2</td>\n",
       "      <td>200</td>\n",
       "      <td>1</td>\n",
       "      <td>2</td>\n",
       "    </tr>\n",
       "    <tr>\n",
       "      <th>1998</th>\n",
       "      <td>0</td>\n",
       "      <td>996687</td>\n",
       "      <td>11.489851</td>\n",
       "      <td>2</td>\n",
       "      <td>200</td>\n",
       "      <td>0</td>\n",
       "      <td>1</td>\n",
       "    </tr>\n",
       "    <tr>\n",
       "      <th>1999</th>\n",
       "      <td>0</td>\n",
       "      <td>996687</td>\n",
       "      <td>10.664045</td>\n",
       "      <td>2</td>\n",
       "      <td>200</td>\n",
       "      <td>0</td>\n",
       "      <td>1</td>\n",
       "    </tr>\n",
       "  </tbody>\n",
       "</table>\n",
       "<p>2000 rows × 7 columns</p>\n",
       "</div>"
      ],
      "text/plain": [
       "      rl       q          s  ql   dl  phm  nmq\n",
       "0      0  101626  11.455160   2  200    0    1\n",
       "1      0  101626  11.736632   2  200    0    1\n",
       "2      0  101626  11.736632   2  200    0    1\n",
       "3      0  101626  11.841684   2  197    0    1\n",
       "4      0  101626  11.956985   2  200    0    1\n",
       "...   ..     ...        ...  ..  ...  ...  ...\n",
       "1995   0  996687  10.664045   2  200    0    1\n",
       "1996   0  996687  10.664045   2  200    0    1\n",
       "1997   1  996687  39.583195   2  200    1    2\n",
       "1998   0  996687  11.489851   2  200    0    1\n",
       "1999   0  996687  10.664045   2  200    0    1\n",
       "\n",
       "[2000 rows x 7 columns]"
      ]
     },
     "execution_count": 34,
     "metadata": {},
     "output_type": "execute_result"
    }
   ],
   "source": [
    "test"
   ]
  },
  {
   "cell_type": "markdown",
   "id": "47ca51b7",
   "metadata": {},
   "source": [
    "### Modelling"
   ]
  },
  {
   "cell_type": "code",
   "execution_count": 24,
   "id": "94286835",
   "metadata": {},
   "outputs": [],
   "source": [
    "X_train_opt = train.drop(['rl','q'], axis=1).values\n",
    "y_train_opt = train['rl'].values\n",
    "queries_train_opt = train['q'].values\n",
    "\n",
    "X_test_opt = test.drop(['rl','q'], axis=1).values\n",
    "y_test_opt = test['rl'].values\n",
    "queries_test_opt = test['q'].values"
   ]
  },
  {
   "cell_type": "code",
   "execution_count": 25,
   "id": "ecd3f56d",
   "metadata": {},
   "outputs": [],
   "source": [
    "max_relevance_opt = np.max(y_train_opt)\n",
    "y_train_opt = y_train_opt/ max_relevance_opt\n",
    "y_test_opt = y_test_opt / max_relevance_opt"
   ]
  },
  {
   "cell_type": "code",
   "execution_count": 26,
   "id": "8acc1123",
   "metadata": {},
   "outputs": [],
   "source": [
    "train_opt = Pool(\n",
    "    data=X_train_opt,\n",
    "    label=y_train_opt,\n",
    "    group_id=queries_train_opt\n",
    ")\n",
    "\n",
    "test_opt = Pool(\n",
    "    data=X_test_opt,\n",
    "    label=y_test_opt,\n",
    "    group_id=queries_test_opt\n",
    ")"
   ]
  },
  {
   "cell_type": "code",
   "execution_count": 27,
   "id": "fe6d0c26",
   "metadata": {},
   "outputs": [],
   "source": [
    "default_parameters = {\n",
    "    'iterations': 2000,\n",
    "    'custom_metric': ['NDCG'],\n",
    "    'verbose': False,\n",
    "    'random_seed': 0,\n",
    "}\n",
    "\n",
    "def fit_model(loss_function, additional_params=None, train_pool=train, test_pool=test):\n",
    "    parameters = deepcopy(default_parameters)\n",
    "    parameters['loss_function'] = loss_function\n",
    "    parameters['train_dir'] = loss_function\n",
    "    \n",
    "    if additional_params is not None:\n",
    "        parameters.update(additional_params)\n",
    "        \n",
    "    model = CatBoostRanker(**parameters)\n",
    "    model.fit(train_pool, eval_set=test_pool, plot=True)\n",
    "    \n",
    "    return model"
   ]
  },
  {
   "cell_type": "code",
   "execution_count": 35,
   "id": "8d20e7ec",
   "metadata": {},
   "outputs": [
    {
     "data": {
      "application/vnd.jupyter.widget-view+json": {
       "model_id": "a1aea27cdd67421eb826b53dbdd9180b",
       "version_major": 2,
       "version_minor": 0
      },
      "text/plain": [
       "MetricVisualizer(layout=Layout(align_self='stretch', height='500px'))"
      ]
     },
     "metadata": {},
     "output_type": "display_data"
    },
    {
     "data": {
      "text/plain": [
       "<catboost.core.CatBoostRanker at 0x22bfe03bb80>"
      ]
     },
     "execution_count": 35,
     "metadata": {},
     "output_type": "execute_result"
    }
   ],
   "source": [
    "fit_model('YetiRank',{'train_dir': 'YetiRank-opt', 'iterations' : 1000 },train_pool=train_opt, test_pool=test_opt)"
   ]
  },
  {
   "cell_type": "code",
   "execution_count": 36,
   "id": "c1fbb98c",
   "metadata": {},
   "outputs": [
    {
     "data": {
      "application/vnd.jupyter.widget-view+json": {
       "model_id": "4cce5c353a9a406baf311a33e3e52516",
       "version_major": 2,
       "version_minor": 0
      },
      "text/plain": [
       "MetricVisualizer(layout=Layout(align_self='stretch', height='500px'))"
      ]
     },
     "metadata": {},
     "output_type": "display_data"
    },
    {
     "data": {
      "text/plain": [
       "<catboost.core.CatBoostRanker at 0x22bfe039690>"
      ]
     },
     "execution_count": 36,
     "metadata": {},
     "output_type": "execute_result"
    }
   ],
   "source": [
    "fit_model('PairLogit',{'train_dir': 'PairLogit-opt', 'iterations' : 1000 }, train_pool=train_opt, test_pool=test_opt)"
   ]
  },
  {
   "cell_type": "code",
   "execution_count": 37,
   "id": "bdfb88a4",
   "metadata": {},
   "outputs": [
    {
     "data": {
      "application/vnd.jupyter.widget-view+json": {
       "model_id": "ecc7bda3bdc449158b8b7273f9909db7",
       "version_major": 2,
       "version_minor": 0
      },
      "text/plain": [
       "MetricVisualizer(layout=Layout(align_self='stretch', height='500px'))"
      ]
     },
     "metadata": {},
     "output_type": "display_data"
    }
   ],
   "source": [
    "widget = MetricVisualizer(['PairLogit-opt', 'YetiRank-opt'])\n",
    "widget.start()"
   ]
  },
  {
   "cell_type": "code",
   "execution_count": null,
   "id": "924bc0d5",
   "metadata": {},
   "outputs": [],
   "source": []
  }
 ],
 "metadata": {
  "kernelspec": {
   "display_name": "Python 3 (ipykernel)",
   "language": "python",
   "name": "python3"
  },
  "language_info": {
   "codemirror_mode": {
    "name": "ipython",
    "version": 3
   },
   "file_extension": ".py",
   "mimetype": "text/x-python",
   "name": "python",
   "nbconvert_exporter": "python",
   "pygments_lexer": "ipython3",
   "version": "3.10.8"
  }
 },
 "nbformat": 4,
 "nbformat_minor": 5
}
