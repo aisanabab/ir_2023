{
 "cells": [
  {
   "cell_type": "code",
   "execution_count": 16,
   "id": "ac971ef9",
   "metadata": {},
   "outputs": [],
   "source": [
    "from elasticsearch import Elasticsearch\n",
    "from elasticsearch.helpers import bulk, parallel_bulk\n",
    "import pandas as pd\n",
    "from tqdm import tqdm\n",
    "from time import time\n",
    "import numpy as np\n",
    "import ir_measures\n",
    "from ir_measures import *\n",
    "from sentence_transformers import SentenceTransformer, util"
   ]
  },
  {
   "cell_type": "markdown",
   "id": "fc6c572d",
   "metadata": {},
   "source": [
    "Elasticsearch"
   ]
  },
  {
   "cell_type": "code",
   "execution_count": 3,
   "id": "b066a786",
   "metadata": {},
   "outputs": [],
   "source": [
    "df = pd.read_csv('wikIR/documents.csv')"
   ]
  },
  {
   "cell_type": "code",
   "execution_count": 4,
   "id": "c2e03a9b",
   "metadata": {},
   "outputs": [],
   "source": [
    "es = Elasticsearch('http://localhost:9200')"
   ]
  },
  {
   "cell_type": "code",
   "execution_count": 5,
   "id": "a1fa4326",
   "metadata": {},
   "outputs": [],
   "source": [
    "mappings = {\n",
    "    'properties': {\n",
    "        '_document': {\n",
    "            'type': 'text',\n",
    "            'analyzer': 'standard'\n",
    "        }\n",
    "    }\n",
    "}\n",
    "\n",
    "settings = {\n",
    "    'analysis' : {\n",
    "        'analyzer' : 'standard' \n",
    "        \n",
    "    }\n",
    "}\n",
    "\n",
    "\n",
    "def create_es_action(index, doc_id, document):\n",
    "    return {\n",
    "        '_index': index,\n",
    "        '_id': doc_id,\n",
    "        '_document': document\n",
    "    }\n",
    "\n",
    "\n",
    "def es_action_generator():\n",
    "    for doc_id, row in tqdm(df.iterrows(), total=df.shape[0]):\n",
    "        doc =  row['text_right']\n",
    "        yield create_es_action(index_name, row['id_right'], doc)"
   ]
  },
  {
   "cell_type": "code",
   "execution_count": null,
   "id": "5be5f062",
   "metadata": {},
   "outputs": [],
   "source": [
    "index_name='wiki2'\n",
    "if es.indices.exists(index=index_name):\n",
    "    es.indices.delete(index=index_name)\n",
    "es.indices.create(index=index_name, settings=settings, mappings=mappings)\n",
    "\n",
    "start = time()\n",
    "for ok, result in parallel_bulk(es, es_action_generator(), queue_size=4, thread_count=4, chunk_size=1000):\n",
    "    if not ok:\n",
    "        print(result)\n",
    "stop = time()\n",
    "\n",
    "print('Indexing time:', stop-start)"
   ]
  },
  {
   "cell_type": "code",
   "execution_count": 20,
   "id": "f0cb7807",
   "metadata": {},
   "outputs": [],
   "source": [
    "def pretty_print_result(search_result):\n",
    "    res = search_result['hits']\n",
    "    results = {}\n",
    "    for hit in res['hits']:\n",
    "        results[hit[\"_id\"]] = hit[\"_score\"]\n",
    "    return results\n",
    "        \n",
    "    \n",
    "def search(query, i):\n",
    "    s = pretty_print_result(es.search(index=i, query=query, size=20))\n",
    "    return s\n",
    "\n",
    "\n",
    "def query(l):\n",
    "    pop = {\n",
    "        'bool': {\n",
    "            'must': {\n",
    "                    'match': {\n",
    "                        '_document': l\n",
    "                    }\n",
    "            },\n",
    "                'should': {\n",
    "                    'match_phrase': {\n",
    "                        '_document': {\n",
    "                            \"query\": l\n",
    "                        }                           \n",
    "                    }                    \n",
    "                }\n",
    "            }\n",
    "        }\n",
    "    \n",
    "    return pop\n",
    "\n",
    "\n",
    "def querysearch(queries, indexname):\n",
    "    results ={}\n",
    "    for q in range(len(queries['text_left'])):\n",
    "        row = queries['text_left'][q]\n",
    "        qu = query(row)\n",
    "        res = search(qu, indexname)\n",
    "        results[str(queries['id_left'][q])] = res\n",
    "    return results"
   ]
  },
  {
   "cell_type": "markdown",
   "id": "2eca8ed2",
   "metadata": {},
   "source": [
    "Test queries"
   ]
  },
  {
   "cell_type": "code",
   "execution_count": 10,
   "id": "bcf206b5",
   "metadata": {},
   "outputs": [],
   "source": [
    "dfq_t = pd.read_csv('wikIR/test/queries.csv')"
   ]
  },
  {
   "cell_type": "markdown",
   "id": "8a949607",
   "metadata": {},
   "source": [
    "BM25"
   ]
  },
  {
   "cell_type": "code",
   "execution_count": 21,
   "id": "c2286330",
   "metadata": {},
   "outputs": [],
   "source": [
    "runs = querysearch(dfq_t, 'wiki2')"
   ]
  },
  {
   "cell_type": "markdown",
   "id": "e10c7313",
   "metadata": {},
   "source": [
    "Cosine"
   ]
  },
  {
   "cell_type": "code",
   "execution_count": 9,
   "id": "6c9748a0",
   "metadata": {},
   "outputs": [],
   "source": [
    "model = SentenceTransformer('sentence-transformers/msmarco-MiniLM-L6-cos-v5')"
   ]
  },
  {
   "cell_type": "code",
   "execution_count": 22,
   "id": "7a98572e",
   "metadata": {},
   "outputs": [
    {
     "name": "stderr",
     "output_type": "stream",
     "text": [
      "100%|████████████████████████████████████████████████████████████████████████████████████████████████████████████████████████████████████████████████| 100/100 [03:52<00:00,  2.32s/it]\n"
     ]
    }
   ],
   "source": [
    "cosine = {}\n",
    "for qdp in tqdm(runs):\n",
    "    qp_cosine = {}\n",
    "    if len(runs[str(qdp)]) != 0:\n",
    "        query = dfq_t['text_left'][np.where(dfq_t['id_left'] == int(qdp))[0][0]]\n",
    "        docs = [df['text_right'][np.where(df['id_right'] == int(doc))[0][0]] for doc in runs[str(qdp)]]\n",
    "        query_emb = model.encode(query)\n",
    "        doc_emb = model.encode(docs)\n",
    "        dot_scores = util.dot_score(query_emb, doc_emb)[0].cpu().tolist()\n",
    "        i = 0\n",
    "        for doc in runs[str(qdp)]:\n",
    "            qp_cosine[str(doc)] = dot_scores[i]\n",
    "            i += 1\n",
    "    cosine[str(qdp)] = qp_cosine"
   ]
  },
  {
   "cell_type": "markdown",
   "id": "3eb0f486",
   "metadata": {},
   "source": [
    "Evaluating"
   ]
  },
  {
   "cell_type": "code",
   "execution_count": 6,
   "id": "326b2431",
   "metadata": {},
   "outputs": [],
   "source": [
    "dfbm = pd.read_table('wikIR/test/qrels', header = None, names = ['id_left', 'n_u', 'id_right', 'label'])"
   ]
  },
  {
   "cell_type": "code",
   "execution_count": 7,
   "id": "2ea3f917",
   "metadata": {},
   "outputs": [],
   "source": [
    "qrels = {}\n",
    "for q_id in dfbm['id_left'].unique():\n",
    "    did = {}\n",
    "    for d_id in dfbm['id_right'][np.where(dfbm['id_left'] == q_id)[0]]:\n",
    "        did[str(d_id)] = int(dfbm['label'][np.where((dfbm['id_left'] == q_id)&(dfbm['id_right']==d_id))[0][0]]) \n",
    "    qrels[str(q_id)] = did\n",
    "#maybe I was just supposed to use their built-in function, but I have written that code, so I didn't change it "
   ]
  },
  {
   "cell_type": "code",
   "execution_count": 23,
   "id": "80daace6",
   "metadata": {},
   "outputs": [],
   "source": [
    "results = pd.DataFrame(dfq_t['id_left'])\n",
    "collection = ['Retrieved', 'Cosine similarity']\n",
    "run = [runs, cosine]\n",
    "measures = [(P(rel=1)@10),(P(rel=1)@20),(AP(rel=1)@20)]"
   ]
  },
  {
   "cell_type": "code",
   "execution_count": 24,
   "id": "923547ba",
   "metadata": {},
   "outputs": [
    {
     "name": "stdout",
     "output_type": "stream",
     "text": [
      "Results for collection Retrieved {AP@20: 0.1227333070822508, P@10: 0.19099999999999995, P@20: 0.13200000000000003}\n",
      "Results for collection Cosine similarity {AP@20: 0.1460335516258388, P@10: 0.18899999999999992, P@20: 0.13200000000000003}\n"
     ]
    }
   ],
   "source": [
    "for i in range(len(run)):\n",
    "    print(\"Results for collection\", collection[i], ir_measures.calc_aggregate(measures, qrels, run[i]))"
   ]
  },
  {
   "cell_type": "code",
   "execution_count": null,
   "id": "02bfde22",
   "metadata": {},
   "outputs": [],
   "source": []
  }
 ],
 "metadata": {
  "kernelspec": {
   "display_name": "Python 3 (ipykernel)",
   "language": "python",
   "name": "python3"
  },
  "language_info": {
   "codemirror_mode": {
    "name": "ipython",
    "version": 3
   },
   "file_extension": ".py",
   "mimetype": "text/x-python",
   "name": "python",
   "nbconvert_exporter": "python",
   "pygments_lexer": "ipython3",
   "version": "3.10.8"
  }
 },
 "nbformat": 4,
 "nbformat_minor": 5
}
