{
 "cells": [
  {
   "cell_type": "code",
   "execution_count": 348,
   "id": "a55a1a47",
   "metadata": {},
   "outputs": [],
   "source": [
    "from elasticsearch import Elasticsearch\n",
    "from elasticsearch.helpers import bulk, parallel_bulk\n",
    "import pandas as pd\n",
    "from tqdm import tqdm\n",
    "from time import time\n",
    "import random\n",
    "import numpy as np\n",
    "import spacy\n",
    "from ir_measures import *"
   ]
  },
  {
   "cell_type": "markdown",
   "id": "ba95b377",
   "metadata": {},
   "source": [
    "# Building search engine"
   ]
  },
  {
   "cell_type": "code",
   "execution_count": 349,
   "id": "d14fc8fa",
   "metadata": {},
   "outputs": [],
   "source": [
    "df = pd.read_csv('wikIR/documents.csv')"
   ]
  },
  {
   "cell_type": "markdown",
   "id": "b93b1772",
   "metadata": {},
   "source": [
    "## Connection"
   ]
  },
  {
   "cell_type": "code",
   "execution_count": 362,
   "id": "a058db79",
   "metadata": {},
   "outputs": [],
   "source": [
    "es = Elasticsearch('http://localhost:9200')"
   ]
  },
  {
   "cell_type": "markdown",
   "id": "fc3c0bfd",
   "metadata": {},
   "source": [
    "## Indexing documents"
   ]
  },
  {
   "cell_type": "code",
   "execution_count": 366,
   "id": "b5697b74",
   "metadata": {},
   "outputs": [
    {
     "name": "stderr",
     "output_type": "stream",
     "text": [
      "100%|█████████████████████████████████████████████████████| 369721/369721 [01:42<00:00, 3597.44it/s]\n"
     ]
    },
    {
     "name": "stdout",
     "output_type": "stream",
     "text": [
      "Indexing time: 103.22652745246887\n"
     ]
    }
   ],
   "source": [
    "# With stemming\n",
    "\n",
    "mappings = {\n",
    "    'properties': {\n",
    "        '_document': {\n",
    "            'type': 'text',\n",
    "            'analyzer': 'porter_stemmer'\n",
    "        }\n",
    "    }\n",
    "}\n",
    "\n",
    "settings = {\n",
    "    'analysis' : {\n",
    "        'analyzer' : {\n",
    "            'porter_stemmer' : {\n",
    "                'tokenizer' : 'whitespace',\n",
    "                'filter' : 'porter_stem'\n",
    "            }\n",
    "        },\n",
    "        'filter' : {\n",
    "            'porter_stem' : {\n",
    "                'type' : 'porter_stem',\n",
    "                'language' : 'English'\n",
    "            }\n",
    "        }\n",
    "    }\n",
    "}\n",
    "\n",
    "index_name='wiki1'\n",
    "if es.indices.exists(index=index_name):\n",
    "    es.indices.delete(index=index_name)\n",
    "es.indices.create(index=index_name, settings=settings, mappings=mappings)\n",
    "\n",
    "def create_es_action(index, doc_id, document):\n",
    "    return {\n",
    "        '_index': index,\n",
    "        '_id': doc_id,\n",
    "        '_document': document\n",
    "    }\n",
    "\n",
    "\n",
    "def es_action_generator():\n",
    "    for doc_id, row in tqdm(df.iterrows(), total=df.shape[0]):\n",
    "        doc =  row['text_right']\n",
    "        yield create_es_action(index_name, row['id_right'], doc)\n",
    "\n",
    "\n",
    "start = time()\n",
    "for ok, result in parallel_bulk(es, es_action_generator(), queue_size=4, thread_count=4, chunk_size=1000):\n",
    "    if not ok:\n",
    "        print(result)\n",
    "stop = time()\n",
    "\n",
    "print('Indexing time:', stop-start)\n",
    "        "
   ]
  },
  {
   "cell_type": "code",
   "execution_count": 367,
   "id": "3c9052fd",
   "metadata": {},
   "outputs": [
    {
     "name": "stderr",
     "output_type": "stream",
     "text": [
      "100%|█████████████████████████████████████████████████████| 369721/369721 [01:47<00:00, 3432.93it/s]\n"
     ]
    },
    {
     "name": "stdout",
     "output_type": "stream",
     "text": [
      "Indexing time: 108.60764980316162\n"
     ]
    }
   ],
   "source": [
    "#Without stemming\n",
    "\n",
    "mappings_w = {\n",
    "    'properties': {\n",
    "        '_document': {\n",
    "            'type': 'text',\n",
    "            'analyzer': 'standard'\n",
    "        }\n",
    "    }\n",
    "}\n",
    "\n",
    "settings_w = {\n",
    "    'analysis' : {\n",
    "        'analyzer' : 'standard' \n",
    "        \n",
    "    }\n",
    "}\n",
    "\n",
    "index_name2 = 'wiki2'\n",
    "if es.indices.exists(index=index_name2):\n",
    "    es.indices.delete(index=index_name2)\n",
    "es.indices.create(index=index_name2,settings=settings_w, mappings=mappings_w)\n",
    "\n",
    "\n",
    "def es_action_generator2():\n",
    "    for doc_id, row in tqdm(df.iterrows(), total=df.shape[0]):\n",
    "        doc =  row['text_right']\n",
    "        yield create_es_action(index_name2, row['id_right'], doc)\n",
    "        \n",
    "        \n",
    "start = time()\n",
    "for ok, result in parallel_bulk(es, es_action_generator2(), queue_size=4, thread_count=4, chunk_size=1000):\n",
    "    if not ok:\n",
    "        print(result)\n",
    "stop = time()\n",
    "\n",
    "print('Indexing time:', stop-start)"
   ]
  },
  {
   "cell_type": "markdown",
   "id": "c630d731",
   "metadata": {},
   "source": [
    "### Optional task : lemmatized collection"
   ]
  },
  {
   "cell_type": "code",
   "execution_count": 260,
   "id": "6bd3e440",
   "metadata": {},
   "outputs": [
    {
     "name": "stderr",
     "output_type": "stream",
     "text": [
      "  0%|                                                                    | 0/369721 [00:00<?, ?it/s]C:\\Users\\aisan\\AppData\\Local\\Temp\\ipykernel_5928\\997936525.py:6: SettingWithCopyWarning: \n",
      "A value is trying to be set on a copy of a slice from a DataFrame\n",
      "\n",
      "See the caveats in the documentation: https://pandas.pydata.org/pandas-docs/stable/user_guide/indexing.html#returning-a-view-versus-a-copy\n",
      "  dfl['text_right'][doc_id] = lemmatized\n",
      "100%|█████████████████████████████████████████████████████| 369721/369721 [4:11:11<00:00, 24.53it/s]\n"
     ]
    }
   ],
   "source": [
    "nlp = spacy.load(\"en_core_web_sm\")\n",
    "dfl = pd.DataFrame(columns = df.columns)\n",
    "dfl['id_right'] = df['id_right']\n",
    "for doc_id in tqdm(range(len(df['text_right']))):\n",
    "    tokens = nlp(df['text_right'][doc_id])\n",
    "    lemmatized = \" \".join(token.lemma_ for token in tokens)\n",
    "    dfl['text_right'][doc_id] = lemmatized"
   ]
  },
  {
   "cell_type": "code",
   "execution_count": 368,
   "id": "1db696df",
   "metadata": {},
   "outputs": [
    {
     "name": "stderr",
     "output_type": "stream",
     "text": [
      "100%|█████████████████████████████████████████████████████| 369721/369721 [02:08<00:00, 2877.74it/s]\n"
     ]
    },
    {
     "name": "stdout",
     "output_type": "stream",
     "text": [
      "Indexing time: 129.7395622730255\n"
     ]
    }
   ],
   "source": [
    "# Lemmatized collection\n",
    "\n",
    "index_name3 = 'wiki3'\n",
    "if es.indices.exists(index=index_name3):\n",
    "    es.indices.delete(index=index_name3)\n",
    "es.indices.create(index=index_name3,settings=settings_w, mappings=mappings_w)\n",
    "\n",
    "\n",
    "def es_action_generator3():\n",
    "    for doc_id, row in tqdm(dfl.iterrows(), total=dfl.shape[0]):\n",
    "        doc =  row['text_right']\n",
    "        yield create_es_action(index_name3, row['id_right'], doc)\n",
    "        \n",
    "        \n",
    "start = time()\n",
    "for ok, result in parallel_bulk(es, es_action_generator3(), queue_size=4, thread_count=4, chunk_size=1000):\n",
    "    if not ok:\n",
    "        print(result)\n",
    "stop = time()\n",
    "\n",
    "print('Indexing time:', stop-start)"
   ]
  },
  {
   "cell_type": "markdown",
   "id": "31f8b93f",
   "metadata": {},
   "source": [
    "## Search"
   ]
  },
  {
   "cell_type": "code",
   "execution_count": 388,
   "id": "904e49d0",
   "metadata": {},
   "outputs": [],
   "source": [
    "def pretty_print_result(search_result):\n",
    "    res = search_result['hits']\n",
    "    results = {}\n",
    "    for hit in res['hits']:\n",
    "        results[hit[\"_id\"]] = hit[\"_score\"]\n",
    "    return results\n",
    "        \n",
    "    \n",
    "def search(query, i):\n",
    "    s = pretty_print_result(es.search(index=i, query=query, size=20))\n",
    "    return s\n",
    "\n",
    "\n",
    "def query(l):\n",
    "    pop = {\n",
    "        'bool': {\n",
    "            'must': {\n",
    "                    'match': {\n",
    "                        '_document': l\n",
    "                    }\n",
    "            },\n",
    "                'should': {\n",
    "                    'match_phrase': {\n",
    "                        '_document': {\n",
    "                            \"query\": l,\n",
    "                            \"boost\": 2 #boost phrase matches\n",
    "                        }                           \n",
    "                    }                    \n",
    "                },\n",
    "            \"minimum_should_match\": 1\n",
    "            }\n",
    "        }\n",
    "    \n",
    "    return pop\n",
    "\n",
    "\n",
    "def querysearch(queries, indexname):\n",
    "    time_list = []\n",
    "    results ={}\n",
    "    for q in range(len(queries['text_left'])):\n",
    "        row = queries['text_left'][q]\n",
    "        qu = query(row)\n",
    "        start = time()\n",
    "        res = search(qu, indexname)\n",
    "        stop = time()\n",
    "        time_list.append(stop - start)\n",
    "        results[str(dfq['id_left'][q])] = res\n",
    "    return results, time_list"
   ]
  },
  {
   "cell_type": "markdown",
   "id": "0bf4eef3",
   "metadata": {},
   "source": [
    "### Lemmatize queries"
   ]
  },
  {
   "cell_type": "code",
   "execution_count": 268,
   "id": "3283b1d2",
   "metadata": {},
   "outputs": [
    {
     "name": "stderr",
     "output_type": "stream",
     "text": [
      "  0%|                                                                       | 0/100 [00:00<?, ?it/s]C:\\Users\\aisan\\AppData\\Local\\Temp\\ipykernel_5928\\1020008998.py:7: SettingWithCopyWarning: \n",
      "A value is trying to be set on a copy of a slice from a DataFrame\n",
      "\n",
      "See the caveats in the documentation: https://pandas.pydata.org/pandas-docs/stable/user_guide/indexing.html#returning-a-view-versus-a-copy\n",
      "  dfql['text_left'][doc_id] = lemmatized\n",
      "100%|█████████████████████████████████████████████████████████████| 100/100 [00:01<00:00, 81.38it/s]\n"
     ]
    }
   ],
   "source": [
    "dfq = pd.read_csv('wikIR/test/queries.csv')\n",
    "dfql = pd.DataFrame(columns = dfq.columns)\n",
    "dfql['id_left'] = dfq['id_left']\n",
    "for doc_id in tqdm(range(len(dfq['text_left']))):\n",
    "    tokens = nlp(dfq['text_left'][doc_id])\n",
    "    lemmatized = \" \".join(token.lemma_ for token in tokens)\n",
    "    dfql['text_left'][doc_id] = lemmatized"
   ]
  },
  {
   "cell_type": "markdown",
   "id": "9a79a6cf",
   "metadata": {
    "scrolled": true
   },
   "source": [
    "## Results"
   ]
  },
  {
   "cell_type": "code",
   "execution_count": 392,
   "id": "8b0fd46b",
   "metadata": {},
   "outputs": [
    {
     "name": "stdout",
     "output_type": "stream",
     "text": [
      "Without Stemming\n",
      "Average query execution time: 0.009379141330718994\n"
     ]
    }
   ],
   "source": [
    "print('Without Stemming')\n",
    "runs_without, time_without = querysearch(dfql, 'wiki2')\n",
    "print(\"Average query execution time:\", np.mean(time_without))"
   ]
  },
  {
   "cell_type": "code",
   "execution_count": 393,
   "id": "2a117e1d",
   "metadata": {},
   "outputs": [
    {
     "name": "stdout",
     "output_type": "stream",
     "text": [
      "With Stemming\n",
      "Average query execution time: 0.00793302059173584\n"
     ]
    }
   ],
   "source": [
    "print('With Stemming')\n",
    "runs_with, time_with = querysearch(dfql, 'wiki1')\n",
    "print(\"Average query execution time:\", np.mean(time_with))"
   ]
  },
  {
   "cell_type": "code",
   "execution_count": 394,
   "id": "d8576698",
   "metadata": {},
   "outputs": [
    {
     "name": "stdout",
     "output_type": "stream",
     "text": [
      "With Lemmatization\n",
      "Average query execution time: 0.007155168056488037\n"
     ]
    }
   ],
   "source": [
    "print('With Lemmatization')\n",
    "runs_l, time_l = querysearch(dfql, 'wiki3')\n",
    "print(\"Average query execution time:\", np.mean(time_l))"
   ]
  },
  {
   "cell_type": "markdown",
   "id": "cbf03f55",
   "metadata": {},
   "source": [
    "# Evaluation"
   ]
  },
  {
   "cell_type": "markdown",
   "id": "8fb5945f",
   "metadata": {},
   "source": [
    "I have already formatted my runs in TREC format. So now we just need qrels and ready to calculate measures."
   ]
  },
  {
   "cell_type": "code",
   "execution_count": 186,
   "id": "0473cc35",
   "metadata": {},
   "outputs": [],
   "source": [
    "dfbm = pd.read_csv('wikIR/test/BM25.qrels.csv')"
   ]
  },
  {
   "cell_type": "code",
   "execution_count": 216,
   "id": "e950640f",
   "metadata": {},
   "outputs": [],
   "source": [
    "qrels = {}\n",
    "for q_id in dfbm['id_left'].unique():\n",
    "    did = {}\n",
    "    for d_id in dfbm['id_right'][np.where(dfbm['id_left'] == q_id)[0]]:\n",
    "        did[str(d_id)] = int(dfbm['label'][np.where((dfbm['id_left'] == q_id)&(dfbm['id_right']==d_id))[0][0]])\n",
    "    qrels[str(q_id)] = did\n",
    "#maybe I was just supposed to use their built-in function, but I have written that code, so I didn't change it "
   ]
  },
  {
   "cell_type": "code",
   "execution_count": 344,
   "id": "68a21235",
   "metadata": {},
   "outputs": [],
   "source": [
    "dfbmr = pd.read_csv('wikIR/test/BM25.res', header=None, names=['q'])\n",
    "dfbmr[['q', 'n_u', 'd', 'r', 's', 'rn']] = dfbmr.q.str.split(expand=True)"
   ]
  },
  {
   "cell_type": "code",
   "execution_count": 345,
   "id": "ea3018e0",
   "metadata": {},
   "outputs": [],
   "source": [
    "runs = {}\n",
    "for q_id in dfbmr['q'].unique():\n",
    "    rid = {}\n",
    "    for d_id in dfbmr['d'][np.where(dfbmr['q'] == q_id)[0]]:\n",
    "        rid[str(d_id)] = float(dfbmr['s'][np.where((dfbmr['q'] == q_id)&(dfbmr['d']==d_id))[0][0]])\n",
    "    runs[str(q_id)] = rid   "
   ]
  },
  {
   "cell_type": "code",
   "execution_count": 370,
   "id": "897bd8f6",
   "metadata": {},
   "outputs": [],
   "source": [
    "results = pd.DataFrame(dfq['id_left'])\n",
    "collection = ['Without stemming', 'With stemming', 'Lemmatized', 'BM25']\n",
    "run = [runs_without, runs_with, runs_l, runs]\n",
    "measures = [(P@10),(P@20),(MAP)]"
   ]
  },
  {
   "cell_type": "code",
   "execution_count": 395,
   "id": "fbf77206",
   "metadata": {},
   "outputs": [
    {
     "name": "stdout",
     "output_type": "stream",
     "text": [
      "Average measure for all queries for P@10 for collection Without stemming 0.522\n",
      "Average measure for all queries for P@10 for collection With stemming 0.549\n",
      "Average measure for all queries for P@10 for collection Lemmatized 0.546\n",
      "Average measure for all queries for P@10 for collection BM25 1.0\n",
      "Average measure for all queries for P@20 for collection Without stemming 0.452\n",
      "Average measure for all queries for P@20 for collection With stemming 0.474\n",
      "Average measure for all queries for P@20 for collection Lemmatized 0.467\n",
      "Average measure for all queries for P@20 for collection BM25 1.0\n",
      "Average measure for all queries for AP for collection Without stemming 0.09\n",
      "Average measure for all queries for AP for collection With stemming 0.092\n",
      "Average measure for all queries for AP for collection Lemmatized 0.092\n",
      "Average measure for all queries for AP for collection BM25 1.0\n"
     ]
    }
   ],
   "source": [
    "for measure in measures:\n",
    "    for i in range(len(collection)):\n",
    "        metric = []\n",
    "        for m in measure.iter_calc(qrels, run[i]):\n",
    "            metric.append(m[-1])\n",
    "        colname = ' '.join([collection[i], str(measure)])\n",
    "        results[colname] = pd.Series(metric) \n",
    "        print(\"Average measure for all queries for\", str(measure), \"for collection\", collection[i], round(np.mean(metric),3))"
   ]
  },
  {
   "cell_type": "code",
   "execution_count": 382,
   "id": "010e9339",
   "metadata": {},
   "outputs": [
    {
     "data": {
      "text/html": [
       "<div>\n",
       "<style scoped>\n",
       "    .dataframe tbody tr th:only-of-type {\n",
       "        vertical-align: middle;\n",
       "    }\n",
       "\n",
       "    .dataframe tbody tr th {\n",
       "        vertical-align: top;\n",
       "    }\n",
       "\n",
       "    .dataframe thead th {\n",
       "        text-align: right;\n",
       "    }\n",
       "</style>\n",
       "<table border=\"1\" class=\"dataframe\">\n",
       "  <thead>\n",
       "    <tr style=\"text-align: right;\">\n",
       "      <th></th>\n",
       "      <th>id_left</th>\n",
       "      <th>Without stemming P@10</th>\n",
       "      <th>Without stemming P@20</th>\n",
       "      <th>Without stemming AP</th>\n",
       "      <th>With stemming P@10</th>\n",
       "      <th>With stemming P@20</th>\n",
       "      <th>With stemming AP</th>\n",
       "      <th>Lemmatized P@10</th>\n",
       "      <th>Lemmatized P@20</th>\n",
       "      <th>Lemmatized AP</th>\n",
       "      <th>BM25 P@10</th>\n",
       "      <th>BM25 P@20</th>\n",
       "      <th>BM25 AP</th>\n",
       "    </tr>\n",
       "  </thead>\n",
       "  <tbody>\n",
       "    <tr>\n",
       "      <th>0</th>\n",
       "      <td>158491</td>\n",
       "      <td>1.0</td>\n",
       "      <td>0.90</td>\n",
       "      <td>0.177856</td>\n",
       "      <td>1.0</td>\n",
       "      <td>0.90</td>\n",
       "      <td>0.177856</td>\n",
       "      <td>1.0</td>\n",
       "      <td>0.90</td>\n",
       "      <td>0.177856</td>\n",
       "      <td>1.0</td>\n",
       "      <td>1.0</td>\n",
       "      <td>1.0</td>\n",
       "    </tr>\n",
       "    <tr>\n",
       "      <th>1</th>\n",
       "      <td>5728</td>\n",
       "      <td>1.0</td>\n",
       "      <td>1.00</td>\n",
       "      <td>0.200000</td>\n",
       "      <td>1.0</td>\n",
       "      <td>0.95</td>\n",
       "      <td>0.186538</td>\n",
       "      <td>1.0</td>\n",
       "      <td>0.95</td>\n",
       "      <td>0.186538</td>\n",
       "      <td>1.0</td>\n",
       "      <td>1.0</td>\n",
       "      <td>1.0</td>\n",
       "    </tr>\n",
       "    <tr>\n",
       "      <th>2</th>\n",
       "      <td>13554</td>\n",
       "      <td>0.0</td>\n",
       "      <td>0.00</td>\n",
       "      <td>0.000000</td>\n",
       "      <td>0.0</td>\n",
       "      <td>0.00</td>\n",
       "      <td>0.000000</td>\n",
       "      <td>0.0</td>\n",
       "      <td>0.00</td>\n",
       "      <td>0.000000</td>\n",
       "      <td>1.0</td>\n",
       "      <td>1.0</td>\n",
       "      <td>1.0</td>\n",
       "    </tr>\n",
       "    <tr>\n",
       "      <th>3</th>\n",
       "      <td>32674</td>\n",
       "      <td>1.0</td>\n",
       "      <td>1.00</td>\n",
       "      <td>0.200000</td>\n",
       "      <td>1.0</td>\n",
       "      <td>1.00</td>\n",
       "      <td>0.200000</td>\n",
       "      <td>1.0</td>\n",
       "      <td>1.00</td>\n",
       "      <td>0.200000</td>\n",
       "      <td>1.0</td>\n",
       "      <td>1.0</td>\n",
       "      <td>1.0</td>\n",
       "    </tr>\n",
       "    <tr>\n",
       "      <th>4</th>\n",
       "      <td>406391</td>\n",
       "      <td>0.0</td>\n",
       "      <td>0.00</td>\n",
       "      <td>0.000000</td>\n",
       "      <td>0.2</td>\n",
       "      <td>0.10</td>\n",
       "      <td>0.020000</td>\n",
       "      <td>0.2</td>\n",
       "      <td>0.10</td>\n",
       "      <td>0.020000</td>\n",
       "      <td>1.0</td>\n",
       "      <td>1.0</td>\n",
       "      <td>1.0</td>\n",
       "    </tr>\n",
       "    <tr>\n",
       "      <th>...</th>\n",
       "      <td>...</td>\n",
       "      <td>...</td>\n",
       "      <td>...</td>\n",
       "      <td>...</td>\n",
       "      <td>...</td>\n",
       "      <td>...</td>\n",
       "      <td>...</td>\n",
       "      <td>...</td>\n",
       "      <td>...</td>\n",
       "      <td>...</td>\n",
       "      <td>...</td>\n",
       "      <td>...</td>\n",
       "      <td>...</td>\n",
       "    </tr>\n",
       "    <tr>\n",
       "      <th>95</th>\n",
       "      <td>679227</td>\n",
       "      <td>0.0</td>\n",
       "      <td>0.00</td>\n",
       "      <td>0.000000</td>\n",
       "      <td>1.0</td>\n",
       "      <td>1.00</td>\n",
       "      <td>0.200000</td>\n",
       "      <td>1.0</td>\n",
       "      <td>0.70</td>\n",
       "      <td>0.138750</td>\n",
       "      <td>1.0</td>\n",
       "      <td>1.0</td>\n",
       "      <td>1.0</td>\n",
       "    </tr>\n",
       "    <tr>\n",
       "      <th>96</th>\n",
       "      <td>2136797</td>\n",
       "      <td>0.7</td>\n",
       "      <td>0.35</td>\n",
       "      <td>0.070000</td>\n",
       "      <td>0.7</td>\n",
       "      <td>0.35</td>\n",
       "      <td>0.070000</td>\n",
       "      <td>0.7</td>\n",
       "      <td>0.35</td>\n",
       "      <td>0.070000</td>\n",
       "      <td>1.0</td>\n",
       "      <td>1.0</td>\n",
       "      <td>1.0</td>\n",
       "    </tr>\n",
       "    <tr>\n",
       "      <th>97</th>\n",
       "      <td>5622</td>\n",
       "      <td>1.0</td>\n",
       "      <td>1.00</td>\n",
       "      <td>0.200000</td>\n",
       "      <td>1.0</td>\n",
       "      <td>1.00</td>\n",
       "      <td>0.200000</td>\n",
       "      <td>1.0</td>\n",
       "      <td>1.00</td>\n",
       "      <td>0.200000</td>\n",
       "      <td>1.0</td>\n",
       "      <td>1.0</td>\n",
       "      <td>1.0</td>\n",
       "    </tr>\n",
       "    <tr>\n",
       "      <th>98</th>\n",
       "      <td>1313598</td>\n",
       "      <td>1.0</td>\n",
       "      <td>1.00</td>\n",
       "      <td>0.200000</td>\n",
       "      <td>1.0</td>\n",
       "      <td>0.95</td>\n",
       "      <td>0.188418</td>\n",
       "      <td>1.0</td>\n",
       "      <td>0.95</td>\n",
       "      <td>0.188418</td>\n",
       "      <td>1.0</td>\n",
       "      <td>1.0</td>\n",
       "      <td>1.0</td>\n",
       "    </tr>\n",
       "    <tr>\n",
       "      <th>99</th>\n",
       "      <td>712704</td>\n",
       "      <td>0.0</td>\n",
       "      <td>0.00</td>\n",
       "      <td>0.000000</td>\n",
       "      <td>0.2</td>\n",
       "      <td>0.10</td>\n",
       "      <td>0.014000</td>\n",
       "      <td>0.2</td>\n",
       "      <td>0.10</td>\n",
       "      <td>0.015000</td>\n",
       "      <td>1.0</td>\n",
       "      <td>1.0</td>\n",
       "      <td>1.0</td>\n",
       "    </tr>\n",
       "  </tbody>\n",
       "</table>\n",
       "<p>100 rows × 13 columns</p>\n",
       "</div>"
      ],
      "text/plain": [
       "    id_left  Without stemming P@10  Without stemming P@20  \\\n",
       "0    158491                    1.0                   0.90   \n",
       "1      5728                    1.0                   1.00   \n",
       "2     13554                    0.0                   0.00   \n",
       "3     32674                    1.0                   1.00   \n",
       "4    406391                    0.0                   0.00   \n",
       "..      ...                    ...                    ...   \n",
       "95   679227                    0.0                   0.00   \n",
       "96  2136797                    0.7                   0.35   \n",
       "97     5622                    1.0                   1.00   \n",
       "98  1313598                    1.0                   1.00   \n",
       "99   712704                    0.0                   0.00   \n",
       "\n",
       "    Without stemming AP  With stemming P@10  With stemming P@20  \\\n",
       "0              0.177856                 1.0                0.90   \n",
       "1              0.200000                 1.0                0.95   \n",
       "2              0.000000                 0.0                0.00   \n",
       "3              0.200000                 1.0                1.00   \n",
       "4              0.000000                 0.2                0.10   \n",
       "..                  ...                 ...                 ...   \n",
       "95             0.000000                 1.0                1.00   \n",
       "96             0.070000                 0.7                0.35   \n",
       "97             0.200000                 1.0                1.00   \n",
       "98             0.200000                 1.0                0.95   \n",
       "99             0.000000                 0.2                0.10   \n",
       "\n",
       "    With stemming AP  Lemmatized P@10  Lemmatized P@20  Lemmatized AP  \\\n",
       "0           0.177856              1.0             0.90       0.177856   \n",
       "1           0.186538              1.0             0.95       0.186538   \n",
       "2           0.000000              0.0             0.00       0.000000   \n",
       "3           0.200000              1.0             1.00       0.200000   \n",
       "4           0.020000              0.2             0.10       0.020000   \n",
       "..               ...              ...              ...            ...   \n",
       "95          0.200000              1.0             0.70       0.138750   \n",
       "96          0.070000              0.7             0.35       0.070000   \n",
       "97          0.200000              1.0             1.00       0.200000   \n",
       "98          0.188418              1.0             0.95       0.188418   \n",
       "99          0.014000              0.2             0.10       0.015000   \n",
       "\n",
       "    BM25 P@10  BM25 P@20  BM25 AP  \n",
       "0         1.0        1.0      1.0  \n",
       "1         1.0        1.0      1.0  \n",
       "2         1.0        1.0      1.0  \n",
       "3         1.0        1.0      1.0  \n",
       "4         1.0        1.0      1.0  \n",
       "..        ...        ...      ...  \n",
       "95        1.0        1.0      1.0  \n",
       "96        1.0        1.0      1.0  \n",
       "97        1.0        1.0      1.0  \n",
       "98        1.0        1.0      1.0  \n",
       "99        1.0        1.0      1.0  \n",
       "\n",
       "[100 rows x 13 columns]"
      ]
     },
     "execution_count": 382,
     "metadata": {},
     "output_type": "execute_result"
    }
   ],
   "source": [
    "results"
   ]
  }
 ],
 "metadata": {
  "kernelspec": {
   "display_name": "Python 3 (ipykernel)",
   "language": "python",
   "name": "python3"
  },
  "language_info": {
   "codemirror_mode": {
    "name": "ipython",
    "version": 3
   },
   "file_extension": ".py",
   "mimetype": "text/x-python",
   "name": "python",
   "nbconvert_exporter": "python",
   "pygments_lexer": "ipython3",
   "version": "3.10.8"
  }
 },
 "nbformat": 4,
 "nbformat_minor": 5
}
