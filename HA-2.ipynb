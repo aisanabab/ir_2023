{
 "cells": [
  {
   "cell_type": "code",
   "execution_count": 21,
   "id": "a55a1a47",
   "metadata": {},
   "outputs": [],
   "source": [
    "from elasticsearch import Elasticsearch\n",
    "from elasticsearch.helpers import bulk, parallel_bulk\n",
    "import pandas as pd\n",
    "from tqdm import tqdm\n",
    "from time import time\n",
    "import random\n",
    "import numpy as np\n",
    "import spacy\n",
    "import ir_measures\n",
    "from ir_measures import *\n",
    "nlp = spacy.load(\"en_core_web_sm\")"
   ]
  },
  {
   "cell_type": "markdown",
   "id": "ba95b377",
   "metadata": {},
   "source": [
    "# Building search engine"
   ]
  },
  {
   "cell_type": "code",
   "execution_count": 349,
   "id": "d14fc8fa",
   "metadata": {},
   "outputs": [],
   "source": [
    "df = pd.read_csv('wikIR/documents.csv')"
   ]
  },
  {
   "cell_type": "markdown",
   "id": "b93b1772",
   "metadata": {},
   "source": [
    "## Connection"
   ]
  },
  {
   "cell_type": "code",
   "execution_count": 3,
   "id": "a058db79",
   "metadata": {},
   "outputs": [],
   "source": [
    "es = Elasticsearch('http://localhost:9200')"
   ]
  },
  {
   "cell_type": "markdown",
   "id": "fc3c0bfd",
   "metadata": {},
   "source": [
    "## Indexing documents"
   ]
  },
  {
   "cell_type": "code",
   "execution_count": 366,
   "id": "b5697b74",
   "metadata": {},
   "outputs": [
    {
     "name": "stderr",
     "output_type": "stream",
     "text": [
      "100%|█████████████████████████████████████████████████████| 369721/369721 [01:42<00:00, 3597.44it/s]\n"
     ]
    },
    {
     "name": "stdout",
     "output_type": "stream",
     "text": [
      "Indexing time: 103.22652745246887\n"
     ]
    }
   ],
   "source": [
    "# With stemming\n",
    "\n",
    "mappings = {\n",
    "    'properties': {\n",
    "        '_document': {\n",
    "            'type': 'text',\n",
    "            'analyzer': 'porter_stemmer'\n",
    "        }\n",
    "    }\n",
    "}\n",
    "\n",
    "settings = {\n",
    "    'analysis' : {\n",
    "        'analyzer' : {\n",
    "            'porter_stemmer' : {\n",
    "                'tokenizer' : 'whitespace',\n",
    "                'filter' : 'porter_stem'\n",
    "            }\n",
    "        },\n",
    "        'filter' : {\n",
    "            'porter_stem' : {\n",
    "                'type' : 'porter_stem',\n",
    "                'language' : 'English'\n",
    "            }\n",
    "        }\n",
    "    }\n",
    "}\n",
    "\n",
    "index_name='wiki1'\n",
    "if es.indices.exists(index=index_name):\n",
    "    es.indices.delete(index=index_name)\n",
    "es.indices.create(index=index_name, settings=settings, mappings=mappings)\n",
    "\n",
    "def create_es_action(index, doc_id, document):\n",
    "    return {\n",
    "        '_index': index,\n",
    "        '_id': doc_id,\n",
    "        '_document': document\n",
    "    }\n",
    "\n",
    "\n",
    "def es_action_generator():\n",
    "    for doc_id, row in tqdm(df.iterrows(), total=df.shape[0]):\n",
    "        doc =  row['text_right']\n",
    "        yield create_es_action(index_name, row['id_right'], doc)\n",
    "\n",
    "\n",
    "start = time()\n",
    "for ok, result in parallel_bulk(es, es_action_generator(), queue_size=4, thread_count=4, chunk_size=1000):\n",
    "    if not ok:\n",
    "        print(result)\n",
    "stop = time()\n",
    "\n",
    "print('Indexing time:', stop-start)\n",
    "        "
   ]
  },
  {
   "cell_type": "code",
   "execution_count": 367,
   "id": "3c9052fd",
   "metadata": {},
   "outputs": [
    {
     "name": "stderr",
     "output_type": "stream",
     "text": [
      "100%|█████████████████████████████████████████████████████| 369721/369721 [01:47<00:00, 3432.93it/s]\n"
     ]
    },
    {
     "name": "stdout",
     "output_type": "stream",
     "text": [
      "Indexing time: 108.60764980316162\n"
     ]
    }
   ],
   "source": [
    "#Without stemming\n",
    "\n",
    "mappings_w = {\n",
    "    'properties': {\n",
    "        '_document': {\n",
    "            'type': 'text',\n",
    "            'analyzer': 'standard'\n",
    "        }\n",
    "    }\n",
    "}\n",
    "\n",
    "settings_w = {\n",
    "    'analysis' : {\n",
    "        'analyzer' : 'standard' \n",
    "        \n",
    "    }\n",
    "}\n",
    "\n",
    "index_name2 = 'wiki2'\n",
    "if es.indices.exists(index=index_name2):\n",
    "    es.indices.delete(index=index_name2)\n",
    "es.indices.create(index=index_name2,settings=settings_w, mappings=mappings_w)\n",
    "\n",
    "\n",
    "def es_action_generator2():\n",
    "    for doc_id, row in tqdm(df.iterrows(), total=df.shape[0]):\n",
    "        doc =  row['text_right']\n",
    "        yield create_es_action(index_name2, row['id_right'], doc)\n",
    "        \n",
    "        \n",
    "start = time()\n",
    "for ok, result in parallel_bulk(es, es_action_generator2(), queue_size=4, thread_count=4, chunk_size=1000):\n",
    "    if not ok:\n",
    "        print(result)\n",
    "stop = time()\n",
    "\n",
    "print('Indexing time:', stop-start)"
   ]
  },
  {
   "cell_type": "markdown",
   "id": "c630d731",
   "metadata": {},
   "source": [
    "### Optional task : lemmatized collection"
   ]
  },
  {
   "cell_type": "code",
   "execution_count": 260,
   "id": "6bd3e440",
   "metadata": {},
   "outputs": [
    {
     "name": "stderr",
     "output_type": "stream",
     "text": [
      "  0%|                                                                    | 0/369721 [00:00<?, ?it/s]C:\\Users\\aisan\\AppData\\Local\\Temp\\ipykernel_5928\\997936525.py:6: SettingWithCopyWarning: \n",
      "A value is trying to be set on a copy of a slice from a DataFrame\n",
      "\n",
      "See the caveats in the documentation: https://pandas.pydata.org/pandas-docs/stable/user_guide/indexing.html#returning-a-view-versus-a-copy\n",
      "  dfl['text_right'][doc_id] = lemmatized\n",
      "100%|█████████████████████████████████████████████████████| 369721/369721 [4:11:11<00:00, 24.53it/s]\n"
     ]
    }
   ],
   "source": [
    "\n",
    "dfl = pd.DataFrame(columns = df.columns)\n",
    "dfl['id_right'] = df['id_right']\n",
    "for doc_id in tqdm(range(len(df['text_right']))):\n",
    "    tokens = nlp(df['text_right'][doc_id])\n",
    "    lemmatized = \" \".join(token.lemma_ for token in tokens)\n",
    "    dfl['text_right'][doc_id] = lemmatized"
   ]
  },
  {
   "cell_type": "code",
   "execution_count": 368,
   "id": "1db696df",
   "metadata": {},
   "outputs": [
    {
     "name": "stderr",
     "output_type": "stream",
     "text": [
      "100%|█████████████████████████████████████████████████████| 369721/369721 [02:08<00:00, 2877.74it/s]\n"
     ]
    },
    {
     "name": "stdout",
     "output_type": "stream",
     "text": [
      "Indexing time: 129.7395622730255\n"
     ]
    }
   ],
   "source": [
    "# Lemmatized collection\n",
    "\n",
    "index_name3 = 'wiki3'\n",
    "if es.indices.exists(index=index_name3):\n",
    "    es.indices.delete(index=index_name3)\n",
    "es.indices.create(index=index_name3,settings=settings_w, mappings=mappings_w)\n",
    "\n",
    "\n",
    "def es_action_generator3():\n",
    "    for doc_id, row in tqdm(dfl.iterrows(), total=dfl.shape[0]):\n",
    "        doc =  row['text_right']\n",
    "        yield create_es_action(index_name3, row['id_right'], doc)\n",
    "        \n",
    "        \n",
    "start = time()\n",
    "for ok, result in parallel_bulk(es, es_action_generator3(), queue_size=4, thread_count=4, chunk_size=1000):\n",
    "    if not ok:\n",
    "        print(result)\n",
    "stop = time()\n",
    "\n",
    "print('Indexing time:', stop-start)"
   ]
  },
  {
   "cell_type": "markdown",
   "id": "31f8b93f",
   "metadata": {},
   "source": [
    "## Search"
   ]
  },
  {
   "cell_type": "code",
   "execution_count": 95,
   "id": "904e49d0",
   "metadata": {},
   "outputs": [],
   "source": [
    "def pretty_print_result(search_result):\n",
    "    res = search_result['hits']\n",
    "    results = {}\n",
    "    for hit in res['hits']:\n",
    "        results[hit[\"_id\"]] = hit[\"_score\"]\n",
    "    return results\n",
    "        \n",
    "    \n",
    "def search(query, i):\n",
    "    s = pretty_print_result(es.search(index=i, query=query, size=20))\n",
    "    return s\n",
    "\n",
    "\n",
    "def query(l): #with boosting\n",
    "    pop = {\n",
    "        'bool': {\n",
    "            'must': {\n",
    "                    'match': {\n",
    "                        '_document': l\n",
    "                    }\n",
    "            },\n",
    "                'should': {\n",
    "                    'match_phrase': {\n",
    "                        '_document': {\n",
    "                            \"query\": l,\n",
    "                            \"boost\": 2 #boost phrase matches\n",
    "                        }                           \n",
    "                    }                    \n",
    "                },\n",
    "            \"minimum_should_match\": 1\n",
    "            }\n",
    "        }\n",
    "    \n",
    "    return pop\n",
    "\n",
    "def query_no_boost(l):\n",
    "    pop = {\n",
    "        'bool': {\n",
    "            'must': {\n",
    "                    'match': {\n",
    "                        '_document': l\n",
    "                    }\n",
    "            },\n",
    "                'should': {\n",
    "                    'match_phrase': {\n",
    "                        '_document': {\n",
    "                            \"query\": l\n",
    "                        }                           \n",
    "                    }                    \n",
    "                }\n",
    "            }\n",
    "        }\n",
    "    \n",
    "    return pop\n",
    "\n",
    "\n",
    "def querysearch(queries, indexname,opt = 'no_boost'):\n",
    "    time_list = []\n",
    "    results ={}\n",
    "    for q in range(len(queries['text_left'])):\n",
    "        row = queries['text_left'][q]\n",
    "        if opt == 'no_boost':\n",
    "            qu = query_no_boost(row)\n",
    "        else: \n",
    "            qu = query(row)\n",
    "        start = time()\n",
    "        res = search(qu, indexname)\n",
    "        stop = time()\n",
    "        time_list.append(stop - start)\n",
    "        results[str(dfq['id_left'][q])] = res\n",
    "    return results, time_list"
   ]
  },
  {
   "cell_type": "markdown",
   "id": "0bf4eef3",
   "metadata": {},
   "source": [
    "### Lemmatize queries"
   ]
  },
  {
   "cell_type": "code",
   "execution_count": 10,
   "id": "3283b1d2",
   "metadata": {},
   "outputs": [
    {
     "name": "stderr",
     "output_type": "stream",
     "text": [
      "  0%|                                                                                                                                                          | 0/100 [00:00<?, ?it/s]C:\\Users\\aisan\\AppData\\Local\\Temp\\ipykernel_19324\\1020008998.py:7: SettingWithCopyWarning: \n",
      "A value is trying to be set on a copy of a slice from a DataFrame\n",
      "\n",
      "See the caveats in the documentation: https://pandas.pydata.org/pandas-docs/stable/user_guide/indexing.html#returning-a-view-versus-a-copy\n",
      "  dfql['text_left'][doc_id] = lemmatized\n",
      "100%|████████████████████████████████████████████████████████████████████████████████████████████████████████████████████████████████████████████████| 100/100 [00:01<00:00, 80.62it/s]\n"
     ]
    }
   ],
   "source": [
    "dfq = pd.read_csv('wikIR/test/queries.csv')\n",
    "dfql = pd.DataFrame(columns = dfq.columns)\n",
    "dfql['id_left'] = dfq['id_left']\n",
    "for doc_id in tqdm(range(len(dfq['text_left']))):\n",
    "    tokens = nlp(dfq['text_left'][doc_id])\n",
    "    lemmatized = \" \".join(token.lemma_ for token in tokens)\n",
    "    dfql['text_left'][doc_id] = lemmatized"
   ]
  },
  {
   "cell_type": "markdown",
   "id": "9a79a6cf",
   "metadata": {
    "scrolled": true
   },
   "source": [
    "## Results"
   ]
  },
  {
   "cell_type": "code",
   "execution_count": 112,
   "id": "8b0fd46b",
   "metadata": {},
   "outputs": [
    {
     "name": "stdout",
     "output_type": "stream",
     "text": [
      "Without Stemming\n",
      "Average query execution time: 0.007884113788604737\n"
     ]
    }
   ],
   "source": [
    "print('Without Stemming')\n",
    "runs_without, time_without = querysearch(dfql, 'wiki2')\n",
    "print(\"Average query execution time:\", np.mean(time_without))"
   ]
  },
  {
   "cell_type": "code",
   "execution_count": 113,
   "id": "2a117e1d",
   "metadata": {},
   "outputs": [
    {
     "name": "stdout",
     "output_type": "stream",
     "text": [
      "With Stemming\n",
      "Average query execution time: 0.008870112895965575\n"
     ]
    }
   ],
   "source": [
    "print('With Stemming')\n",
    "runs_with, time_with = querysearch(dfql, 'wiki1')\n",
    "print(\"Average query execution time:\", np.mean(time_with))"
   ]
  },
  {
   "cell_type": "code",
   "execution_count": 114,
   "id": "d8576698",
   "metadata": {},
   "outputs": [
    {
     "name": "stdout",
     "output_type": "stream",
     "text": [
      "With Lemmatization\n",
      "Average query execution time: 0.008040292263031006\n"
     ]
    }
   ],
   "source": [
    "print('With Lemmatization')\n",
    "runs_l, time_l = querysearch(dfql, 'wiki3')\n",
    "print(\"Average query execution time:\", np.mean(time_l))"
   ]
  },
  {
   "cell_type": "code",
   "execution_count": 102,
   "id": "822a5b60",
   "metadata": {},
   "outputs": [
    {
     "name": "stdout",
     "output_type": "stream",
     "text": [
      "Without Stemming with Boost\n",
      "Average query execution time: 0.008446846008300781\n"
     ]
    }
   ],
   "source": [
    "print('Without Stemming with Boost')\n",
    "runs_without_boost, time_without_boost = querysearch(dfql, 'wiki2', 'boost')\n",
    "print(\"Average query execution time:\", np.mean(time_without))"
   ]
  },
  {
   "cell_type": "code",
   "execution_count": 103,
   "id": "e6dccbe8",
   "metadata": {},
   "outputs": [
    {
     "name": "stdout",
     "output_type": "stream",
     "text": [
      "With Stemming with Boost\n",
      "Average query execution time: 0.00853665590286255\n"
     ]
    }
   ],
   "source": [
    "print('With Stemming with Boost')\n",
    "runs_with_boost, time_with_boost = querysearch(dfql, 'wiki1', 'boost')\n",
    "print(\"Average query execution time:\", np.mean(time_with))"
   ]
  },
  {
   "cell_type": "code",
   "execution_count": 104,
   "id": "1a467ae1",
   "metadata": {},
   "outputs": [
    {
     "name": "stdout",
     "output_type": "stream",
     "text": [
      "With Lemmatization with Boost\n",
      "Average query execution time: 0.008120014667510986\n"
     ]
    }
   ],
   "source": [
    "print('With Lemmatization with Boost')\n",
    "runs_l_boost, time_l_boost = querysearch(dfql, 'wiki3', 'boost')\n",
    "print(\"Average query execution time:\", np.mean(time_l))"
   ]
  },
  {
   "cell_type": "markdown",
   "id": "cbf03f55",
   "metadata": {},
   "source": [
    "# Evaluation"
   ]
  },
  {
   "cell_type": "markdown",
   "id": "8fb5945f",
   "metadata": {},
   "source": [
    "I have already formatted my runs in TREC format. So now we just need qrels and ready to calculate measures."
   ]
  },
  {
   "cell_type": "code",
   "execution_count": 63,
   "id": "57714868",
   "metadata": {},
   "outputs": [],
   "source": [
    "dfbm = pd.read_table('wikIR/test/qrels', header = None, names = ['id_left', 'n_u', 'id_right', 'label'])"
   ]
  },
  {
   "cell_type": "code",
   "execution_count": 66,
   "id": "e950640f",
   "metadata": {},
   "outputs": [],
   "source": [
    "qrels = {}\n",
    "for q_id in dfbm['id_left'].unique():\n",
    "    did = {}\n",
    "    for d_id in dfbm['id_right'][np.where(dfbm['id_left'] == q_id)[0]]:\n",
    "        did[str(d_id)] = int(dfbm['label'][np.where((dfbm['id_left'] == q_id)&(dfbm['id_right']==d_id))[0][0]]) \n",
    "    qrels[str(q_id)] = did\n",
    "#maybe I was just supposed to use their built-in function, but I have written that code, so I didn't change it "
   ]
  },
  {
   "cell_type": "code",
   "execution_count": 68,
   "id": "68a21235",
   "metadata": {},
   "outputs": [],
   "source": [
    "dfbmr = pd.read_csv('wikIR/test/BM25.res', header=None, names=['q'])\n",
    "dfbmr[['q', 'n_u', 'd', 'r', 's', 'rn']] = dfbmr.q.str.split(expand=True)"
   ]
  },
  {
   "cell_type": "code",
   "execution_count": 69,
   "id": "ea3018e0",
   "metadata": {},
   "outputs": [],
   "source": [
    "runs = {}\n",
    "for q_id in dfbmr['q'].unique():\n",
    "    rid = {}\n",
    "    for d_id in dfbmr['d'][np.where(dfbmr['q'] == q_id)[0]]:\n",
    "        rid[str(d_id)] = float(dfbmr['s'][np.where((dfbmr['q'] == q_id)&(dfbmr['d']==d_id))[0][0]])\n",
    "    runs[str(q_id)] = rid   "
   ]
  },
  {
   "cell_type": "code",
   "execution_count": 108,
   "id": "897bd8f6",
   "metadata": {},
   "outputs": [],
   "source": [
    "results = pd.DataFrame(dfq['id_left'])\n",
    "collection = ['Without stemming', 'With stemming', 'Lemmatized', 'Without stemming with Boost', 'With stemming with Boost', 'Lemmatized with Boost', 'BM25']\n",
    "run = [runs_without, runs_with, runs_l,runs_without_boost, runs_with_boost, runs_l_boost,  runs]\n",
    "measures = [(P(rel=1)@10),(P(rel=1)@20),(MAP(rel=1))]"
   ]
  },
  {
   "cell_type": "code",
   "execution_count": 115,
   "id": "fbf77206",
   "metadata": {},
   "outputs": [],
   "source": [
    "for measure in measures:\n",
    "    for i in range(len(collection)):\n",
    "        metric = []\n",
    "        for m in measure.iter_calc(qrels, run[i]):\n",
    "            metric.append(m[-1])\n",
    "        colname = ' '.join([collection[i], str(measure)])\n",
    "        results[colname] = pd.Series(metric) "
   ]
  },
  {
   "cell_type": "code",
   "execution_count": 110,
   "id": "010e9339",
   "metadata": {},
   "outputs": [
    {
     "data": {
      "text/html": [
       "<div>\n",
       "<style scoped>\n",
       "    .dataframe tbody tr th:only-of-type {\n",
       "        vertical-align: middle;\n",
       "    }\n",
       "\n",
       "    .dataframe tbody tr th {\n",
       "        vertical-align: top;\n",
       "    }\n",
       "\n",
       "    .dataframe thead th {\n",
       "        text-align: right;\n",
       "    }\n",
       "</style>\n",
       "<table border=\"1\" class=\"dataframe\">\n",
       "  <thead>\n",
       "    <tr style=\"text-align: right;\">\n",
       "      <th></th>\n",
       "      <th>id_left</th>\n",
       "      <th>Without stemming P@10</th>\n",
       "      <th>With stemming P@10</th>\n",
       "      <th>Lemmatized P@10</th>\n",
       "      <th>Without stemming with Boost P@10</th>\n",
       "      <th>With stemming with Boost P@10</th>\n",
       "      <th>Lemmatized with Boost P@10</th>\n",
       "      <th>BM25 P@10</th>\n",
       "      <th>Without stemming P@20</th>\n",
       "      <th>With stemming P@20</th>\n",
       "      <th>...</th>\n",
       "      <th>With stemming with Boost P@20</th>\n",
       "      <th>Lemmatized with Boost P@20</th>\n",
       "      <th>BM25 P@20</th>\n",
       "      <th>Without stemming AP</th>\n",
       "      <th>With stemming AP</th>\n",
       "      <th>Lemmatized AP</th>\n",
       "      <th>Without stemming with Boost AP</th>\n",
       "      <th>With stemming with Boost AP</th>\n",
       "      <th>Lemmatized with Boost AP</th>\n",
       "      <th>BM25 AP</th>\n",
       "    </tr>\n",
       "  </thead>\n",
       "  <tbody>\n",
       "    <tr>\n",
       "      <th>0</th>\n",
       "      <td>158491</td>\n",
       "      <td>0.0</td>\n",
       "      <td>0.0</td>\n",
       "      <td>0.0</td>\n",
       "      <td>0.0</td>\n",
       "      <td>0.0</td>\n",
       "      <td>0.0</td>\n",
       "      <td>0.0</td>\n",
       "      <td>0.05</td>\n",
       "      <td>0.05</td>\n",
       "      <td>...</td>\n",
       "      <td>0.05</td>\n",
       "      <td>0.05</td>\n",
       "      <td>0.05</td>\n",
       "      <td>0.006173</td>\n",
       "      <td>0.006173</td>\n",
       "      <td>0.006173</td>\n",
       "      <td>0.006944</td>\n",
       "      <td>0.006944</td>\n",
       "      <td>0.006944</td>\n",
       "      <td>0.006173</td>\n",
       "    </tr>\n",
       "    <tr>\n",
       "      <th>1</th>\n",
       "      <td>5728</td>\n",
       "      <td>0.1</td>\n",
       "      <td>0.1</td>\n",
       "      <td>0.1</td>\n",
       "      <td>0.1</td>\n",
       "      <td>0.1</td>\n",
       "      <td>0.1</td>\n",
       "      <td>0.1</td>\n",
       "      <td>0.10</td>\n",
       "      <td>0.15</td>\n",
       "      <td>...</td>\n",
       "      <td>0.15</td>\n",
       "      <td>0.10</td>\n",
       "      <td>0.10</td>\n",
       "      <td>0.076923</td>\n",
       "      <td>0.091209</td>\n",
       "      <td>0.076190</td>\n",
       "      <td>0.076923</td>\n",
       "      <td>0.091209</td>\n",
       "      <td>0.076190</td>\n",
       "      <td>0.094802</td>\n",
       "    </tr>\n",
       "    <tr>\n",
       "      <th>2</th>\n",
       "      <td>13554</td>\n",
       "      <td>0.0</td>\n",
       "      <td>0.0</td>\n",
       "      <td>0.0</td>\n",
       "      <td>0.0</td>\n",
       "      <td>0.0</td>\n",
       "      <td>0.0</td>\n",
       "      <td>0.0</td>\n",
       "      <td>0.05</td>\n",
       "      <td>0.05</td>\n",
       "      <td>...</td>\n",
       "      <td>0.00</td>\n",
       "      <td>0.00</td>\n",
       "      <td>0.00</td>\n",
       "      <td>0.007519</td>\n",
       "      <td>0.007519</td>\n",
       "      <td>0.007519</td>\n",
       "      <td>0.000000</td>\n",
       "      <td>0.000000</td>\n",
       "      <td>0.000000</td>\n",
       "      <td>0.000000</td>\n",
       "    </tr>\n",
       "    <tr>\n",
       "      <th>3</th>\n",
       "      <td>32674</td>\n",
       "      <td>0.5</td>\n",
       "      <td>0.5</td>\n",
       "      <td>0.5</td>\n",
       "      <td>0.5</td>\n",
       "      <td>0.5</td>\n",
       "      <td>0.5</td>\n",
       "      <td>0.7</td>\n",
       "      <td>0.25</td>\n",
       "      <td>0.25</td>\n",
       "      <td>...</td>\n",
       "      <td>0.25</td>\n",
       "      <td>0.25</td>\n",
       "      <td>0.35</td>\n",
       "      <td>0.625850</td>\n",
       "      <td>0.625850</td>\n",
       "      <td>0.625850</td>\n",
       "      <td>0.625850</td>\n",
       "      <td>0.625850</td>\n",
       "      <td>0.625850</td>\n",
       "      <td>0.729592</td>\n",
       "    </tr>\n",
       "    <tr>\n",
       "      <th>4</th>\n",
       "      <td>406391</td>\n",
       "      <td>0.0</td>\n",
       "      <td>0.1</td>\n",
       "      <td>0.1</td>\n",
       "      <td>0.0</td>\n",
       "      <td>0.1</td>\n",
       "      <td>0.1</td>\n",
       "      <td>0.0</td>\n",
       "      <td>0.00</td>\n",
       "      <td>0.15</td>\n",
       "      <td>...</td>\n",
       "      <td>0.05</td>\n",
       "      <td>0.05</td>\n",
       "      <td>0.00</td>\n",
       "      <td>0.000000</td>\n",
       "      <td>0.108516</td>\n",
       "      <td>0.112179</td>\n",
       "      <td>0.000000</td>\n",
       "      <td>0.062500</td>\n",
       "      <td>0.062500</td>\n",
       "      <td>0.053588</td>\n",
       "    </tr>\n",
       "    <tr>\n",
       "      <th>...</th>\n",
       "      <td>...</td>\n",
       "      <td>...</td>\n",
       "      <td>...</td>\n",
       "      <td>...</td>\n",
       "      <td>...</td>\n",
       "      <td>...</td>\n",
       "      <td>...</td>\n",
       "      <td>...</td>\n",
       "      <td>...</td>\n",
       "      <td>...</td>\n",
       "      <td>...</td>\n",
       "      <td>...</td>\n",
       "      <td>...</td>\n",
       "      <td>...</td>\n",
       "      <td>...</td>\n",
       "      <td>...</td>\n",
       "      <td>...</td>\n",
       "      <td>...</td>\n",
       "      <td>...</td>\n",
       "      <td>...</td>\n",
       "      <td>...</td>\n",
       "    </tr>\n",
       "    <tr>\n",
       "      <th>95</th>\n",
       "      <td>679227</td>\n",
       "      <td>0.1</td>\n",
       "      <td>0.2</td>\n",
       "      <td>0.1</td>\n",
       "      <td>0.0</td>\n",
       "      <td>0.2</td>\n",
       "      <td>0.1</td>\n",
       "      <td>0.1</td>\n",
       "      <td>0.15</td>\n",
       "      <td>0.15</td>\n",
       "      <td>...</td>\n",
       "      <td>0.15</td>\n",
       "      <td>0.15</td>\n",
       "      <td>0.15</td>\n",
       "      <td>0.020274</td>\n",
       "      <td>0.035034</td>\n",
       "      <td>0.027054</td>\n",
       "      <td>0.000000</td>\n",
       "      <td>0.039002</td>\n",
       "      <td>0.025467</td>\n",
       "      <td>0.067767</td>\n",
       "    </tr>\n",
       "    <tr>\n",
       "      <th>96</th>\n",
       "      <td>2136797</td>\n",
       "      <td>0.2</td>\n",
       "      <td>0.2</td>\n",
       "      <td>0.2</td>\n",
       "      <td>0.2</td>\n",
       "      <td>0.2</td>\n",
       "      <td>0.2</td>\n",
       "      <td>0.1</td>\n",
       "      <td>0.10</td>\n",
       "      <td>0.10</td>\n",
       "      <td>...</td>\n",
       "      <td>0.10</td>\n",
       "      <td>0.10</td>\n",
       "      <td>0.05</td>\n",
       "      <td>0.194444</td>\n",
       "      <td>0.194444</td>\n",
       "      <td>0.194444</td>\n",
       "      <td>0.194444</td>\n",
       "      <td>0.194444</td>\n",
       "      <td>0.194444</td>\n",
       "      <td>0.031250</td>\n",
       "    </tr>\n",
       "    <tr>\n",
       "      <th>97</th>\n",
       "      <td>5622</td>\n",
       "      <td>0.1</td>\n",
       "      <td>0.1</td>\n",
       "      <td>0.1</td>\n",
       "      <td>0.1</td>\n",
       "      <td>0.1</td>\n",
       "      <td>0.1</td>\n",
       "      <td>0.1</td>\n",
       "      <td>0.05</td>\n",
       "      <td>0.05</td>\n",
       "      <td>...</td>\n",
       "      <td>0.05</td>\n",
       "      <td>0.05</td>\n",
       "      <td>0.05</td>\n",
       "      <td>0.006579</td>\n",
       "      <td>0.006579</td>\n",
       "      <td>0.006579</td>\n",
       "      <td>0.006579</td>\n",
       "      <td>0.006579</td>\n",
       "      <td>0.006579</td>\n",
       "      <td>0.011759</td>\n",
       "    </tr>\n",
       "    <tr>\n",
       "      <th>98</th>\n",
       "      <td>1313598</td>\n",
       "      <td>0.2</td>\n",
       "      <td>0.2</td>\n",
       "      <td>0.2</td>\n",
       "      <td>0.2</td>\n",
       "      <td>0.2</td>\n",
       "      <td>0.2</td>\n",
       "      <td>0.2</td>\n",
       "      <td>0.15</td>\n",
       "      <td>0.15</td>\n",
       "      <td>...</td>\n",
       "      <td>0.15</td>\n",
       "      <td>0.15</td>\n",
       "      <td>0.10</td>\n",
       "      <td>0.163077</td>\n",
       "      <td>0.173077</td>\n",
       "      <td>0.173077</td>\n",
       "      <td>0.163077</td>\n",
       "      <td>0.163077</td>\n",
       "      <td>0.163077</td>\n",
       "      <td>0.127778</td>\n",
       "    </tr>\n",
       "    <tr>\n",
       "      <th>99</th>\n",
       "      <td>712704</td>\n",
       "      <td>0.0</td>\n",
       "      <td>0.2</td>\n",
       "      <td>0.2</td>\n",
       "      <td>0.0</td>\n",
       "      <td>0.2</td>\n",
       "      <td>0.2</td>\n",
       "      <td>0.0</td>\n",
       "      <td>0.00</td>\n",
       "      <td>0.10</td>\n",
       "      <td>...</td>\n",
       "      <td>0.10</td>\n",
       "      <td>0.15</td>\n",
       "      <td>0.00</td>\n",
       "      <td>0.000000</td>\n",
       "      <td>0.016234</td>\n",
       "      <td>0.027007</td>\n",
       "      <td>0.000000</td>\n",
       "      <td>0.016234</td>\n",
       "      <td>0.027007</td>\n",
       "      <td>0.000000</td>\n",
       "    </tr>\n",
       "  </tbody>\n",
       "</table>\n",
       "<p>100 rows × 22 columns</p>\n",
       "</div>"
      ],
      "text/plain": [
       "    id_left  Without stemming P@10  With stemming P@10  Lemmatized P@10  \\\n",
       "0    158491                    0.0                 0.0              0.0   \n",
       "1      5728                    0.1                 0.1              0.1   \n",
       "2     13554                    0.0                 0.0              0.0   \n",
       "3     32674                    0.5                 0.5              0.5   \n",
       "4    406391                    0.0                 0.1              0.1   \n",
       "..      ...                    ...                 ...              ...   \n",
       "95   679227                    0.1                 0.2              0.1   \n",
       "96  2136797                    0.2                 0.2              0.2   \n",
       "97     5622                    0.1                 0.1              0.1   \n",
       "98  1313598                    0.2                 0.2              0.2   \n",
       "99   712704                    0.0                 0.2              0.2   \n",
       "\n",
       "    Without stemming with Boost P@10  With stemming with Boost P@10  \\\n",
       "0                                0.0                            0.0   \n",
       "1                                0.1                            0.1   \n",
       "2                                0.0                            0.0   \n",
       "3                                0.5                            0.5   \n",
       "4                                0.0                            0.1   \n",
       "..                               ...                            ...   \n",
       "95                               0.0                            0.2   \n",
       "96                               0.2                            0.2   \n",
       "97                               0.1                            0.1   \n",
       "98                               0.2                            0.2   \n",
       "99                               0.0                            0.2   \n",
       "\n",
       "    Lemmatized with Boost P@10  BM25 P@10  Without stemming P@20  \\\n",
       "0                          0.0        0.0                   0.05   \n",
       "1                          0.1        0.1                   0.10   \n",
       "2                          0.0        0.0                   0.05   \n",
       "3                          0.5        0.7                   0.25   \n",
       "4                          0.1        0.0                   0.00   \n",
       "..                         ...        ...                    ...   \n",
       "95                         0.1        0.1                   0.15   \n",
       "96                         0.2        0.1                   0.10   \n",
       "97                         0.1        0.1                   0.05   \n",
       "98                         0.2        0.2                   0.15   \n",
       "99                         0.2        0.0                   0.00   \n",
       "\n",
       "    With stemming P@20  ...  With stemming with Boost P@20  \\\n",
       "0                 0.05  ...                           0.05   \n",
       "1                 0.15  ...                           0.15   \n",
       "2                 0.05  ...                           0.00   \n",
       "3                 0.25  ...                           0.25   \n",
       "4                 0.15  ...                           0.05   \n",
       "..                 ...  ...                            ...   \n",
       "95                0.15  ...                           0.15   \n",
       "96                0.10  ...                           0.10   \n",
       "97                0.05  ...                           0.05   \n",
       "98                0.15  ...                           0.15   \n",
       "99                0.10  ...                           0.10   \n",
       "\n",
       "    Lemmatized with Boost P@20  BM25 P@20  Without stemming AP  \\\n",
       "0                         0.05       0.05             0.006173   \n",
       "1                         0.10       0.10             0.076923   \n",
       "2                         0.00       0.00             0.007519   \n",
       "3                         0.25       0.35             0.625850   \n",
       "4                         0.05       0.00             0.000000   \n",
       "..                         ...        ...                  ...   \n",
       "95                        0.15       0.15             0.020274   \n",
       "96                        0.10       0.05             0.194444   \n",
       "97                        0.05       0.05             0.006579   \n",
       "98                        0.15       0.10             0.163077   \n",
       "99                        0.15       0.00             0.000000   \n",
       "\n",
       "    With stemming AP  Lemmatized AP  Without stemming with Boost AP  \\\n",
       "0           0.006173       0.006173                        0.006944   \n",
       "1           0.091209       0.076190                        0.076923   \n",
       "2           0.007519       0.007519                        0.000000   \n",
       "3           0.625850       0.625850                        0.625850   \n",
       "4           0.108516       0.112179                        0.000000   \n",
       "..               ...            ...                             ...   \n",
       "95          0.035034       0.027054                        0.000000   \n",
       "96          0.194444       0.194444                        0.194444   \n",
       "97          0.006579       0.006579                        0.006579   \n",
       "98          0.173077       0.173077                        0.163077   \n",
       "99          0.016234       0.027007                        0.000000   \n",
       "\n",
       "    With stemming with Boost AP  Lemmatized with Boost AP   BM25 AP  \n",
       "0                      0.006944                  0.006944  0.006173  \n",
       "1                      0.091209                  0.076190  0.094802  \n",
       "2                      0.000000                  0.000000  0.000000  \n",
       "3                      0.625850                  0.625850  0.729592  \n",
       "4                      0.062500                  0.062500  0.053588  \n",
       "..                          ...                       ...       ...  \n",
       "95                     0.039002                  0.025467  0.067767  \n",
       "96                     0.194444                  0.194444  0.031250  \n",
       "97                     0.006579                  0.006579  0.011759  \n",
       "98                     0.163077                  0.163077  0.127778  \n",
       "99                     0.016234                  0.027007  0.000000  \n",
       "\n",
       "[100 rows x 22 columns]"
      ]
     },
     "execution_count": 110,
     "metadata": {},
     "output_type": "execute_result"
    }
   ],
   "source": [
    "results"
   ]
  },
  {
   "cell_type": "code",
   "execution_count": 116,
   "id": "305dd20e",
   "metadata": {},
   "outputs": [
    {
     "name": "stdout",
     "output_type": "stream",
     "text": [
      "Results for collection Without stemming {P@20: 0.12400000000000005, P@10: 0.17699999999999996, AP: 0.11553823714486759}\n",
      "Results for collection With stemming {P@20: 0.13450000000000004, P@10: 0.19499999999999992, AP: 0.12447524836381069}\n",
      "Results for collection Lemmatized {P@20: 0.13100000000000003, P@10: 0.18799999999999997, AP: 0.1228401963484228}\n",
      "Results for collection Without stemming with Boost {P@20: 0.10050000000000005, P@10: 0.15199999999999994, AP: 0.09928764651433107}\n",
      "Results for collection With stemming with Boost {P@20: 0.11550000000000002, P@10: 0.17399999999999996, AP: 0.1090320259686725}\n",
      "Results for collection Lemmatized with Boost {P@20: 0.113, P@10: 0.16699999999999993, AP: 0.10836973167982002}\n",
      "Results for collection BM25 {P@20: 0.09499999999999999, P@10: 0.1319999999999999, AP: 0.11196168401599797}\n"
     ]
    }
   ],
   "source": [
    "for i in range(len(run)):\n",
    "    print(\"Results for collection\", collection[i], ir_measures.calc_aggregate(measures, qrels, run[i]))"
   ]
  },
  {
   "cell_type": "code",
   "execution_count": null,
   "id": "1582afbb",
   "metadata": {},
   "outputs": [],
   "source": []
  }
 ],
 "metadata": {
  "kernelspec": {
   "display_name": "Python 3 (ipykernel)",
   "language": "python",
   "name": "python3"
  },
  "language_info": {
   "codemirror_mode": {
    "name": "ipython",
    "version": 3
   },
   "file_extension": ".py",
   "mimetype": "text/x-python",
   "name": "python",
   "nbconvert_exporter": "python",
   "pygments_lexer": "ipython3",
   "version": "3.10.8"
  }
 },
 "nbformat": 4,
 "nbformat_minor": 5
}
